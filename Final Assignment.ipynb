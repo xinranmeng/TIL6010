{
 "cells": [
  {
   "cell_type": "markdown",
   "metadata": {
    "heading_collapsed": true
   },
   "source": [
    "# General requirements for the assignment"
   ]
  },
  {
   "cell_type": "markdown",
   "metadata": {
    "hidden": true
   },
   "source": [
    "- Make appropriate comments to your code\n",
    "- Use Markdown cells to provide your answers (when applicable)\n",
    "- Stick to Pep8 standard as much as possible for your coding\n",
    "- Submit through GitHub\n",
    "- Tag the commit as *Final submission of graded assignment*\n",
    "- Provide your GitHub URL to the notebook as the submission for the Brightspace assignment page\n",
    "- Post errors in the course Github's issue page for faster feedback\n",
    "- ***DO NOT* forget to remove your review partner from your repository before you put the code in Github to avoid plagiarism**\n",
    "\n",
    "### DEADLINE FOR THIS ASSIGNMENT IS 29 OCTOBER 2021 BEFORE 23:59\n",
    "\n",
    "<hr />"
   ]
  },
  {
   "cell_type": "markdown",
   "metadata": {},
   "source": [
    "# Assignment\n"
   ]
  },
  {
   "cell_type": "markdown",
   "metadata": {},
   "source": [
    "In the past 7 weeks, you have been working with Google mobility data. Now, let's combine that data with covid-19 data to see if we can derive some *interesting* insights. There are multiple sources of COVID-19 data. Maybe the country that you chose has its separate data source. \n",
    "- One such data source is from [OurWorldInData](https://github.com/owid/covid-19-data/tree/master/public/data), which contains daily covid data from 217 countries and the corresponding government response measured as **stringency index**.\n",
    "- Another data source that provides municipal, provincial, and nationwide covid data for the whole of **Netherlands** is [here](https://github.com/J535D165/CoronaWatchNL).\n",
    "\n",
    "Feel free to use either of these data sources or something you found on your own!"
   ]
  },
  {
   "cell_type": "markdown",
   "metadata": {
    "heading_collapsed": true
   },
   "source": [
    "## Part I - Data import"
   ]
  },
  {
   "cell_type": "markdown",
   "metadata": {
    "hidden": true
   },
   "source": [
    "1.[5 points]\n",
    "This dataframe should combine mobility data and covid-19 data of your chosen country. There are different types of covid data available such as the number of positively tested cases, hospital admission, fatality rates, government stringency index, etc. Provide a brief explanation or data dictionary of your new dataframe. Keep in mind that you need to associate these two datasets, then pick municipal, provincial, or nationwide data accordingly."
   ]
  },
  {
   "cell_type": "code",
   "execution_count": 1,
   "metadata": {},
   "outputs": [],
   "source": [
    "import pandas as pd\n",
    "import os\n",
    "import numpy as np\n",
    "import datetime\n",
    "from datetime import datetime\n",
    "import plotly.express as px\n",
    "import plotly.graph_objects as go"
   ]
  },
  {
   "cell_type": "code",
   "execution_count": 2,
   "metadata": {},
   "outputs": [
    {
     "data": {
      "text/html": [
       "<div>\n",
       "<style scoped>\n",
       "    .dataframe tbody tr th:only-of-type {\n",
       "        vertical-align: middle;\n",
       "    }\n",
       "\n",
       "    .dataframe tbody tr th {\n",
       "        vertical-align: top;\n",
       "    }\n",
       "\n",
       "    .dataframe thead th {\n",
       "        text-align: right;\n",
       "    }\n",
       "</style>\n",
       "<table border=\"1\" class=\"dataframe\">\n",
       "  <thead>\n",
       "    <tr style=\"text-align: right;\">\n",
       "      <th></th>\n",
       "      <th>date</th>\n",
       "      <th>metro_area</th>\n",
       "      <th>census_fips_code</th>\n",
       "      <th>retail_and_recreation_percent_change_from_baseline</th>\n",
       "      <th>grocery_and_pharmacy_percent_change_from_baseline</th>\n",
       "      <th>parks_percent_change_from_baseline</th>\n",
       "      <th>transit_stations_percent_change_from_baseline</th>\n",
       "      <th>workplaces_percent_change_from_baseline</th>\n",
       "      <th>residential_percent_change_from_baseline</th>\n",
       "      <th>total_cases</th>\n",
       "      <th>...</th>\n",
       "      <th>female_smokers</th>\n",
       "      <th>male_smokers</th>\n",
       "      <th>handwashing_facilities</th>\n",
       "      <th>hospital_beds_per_thousand</th>\n",
       "      <th>life_expectancy</th>\n",
       "      <th>human_development_index</th>\n",
       "      <th>excess_mortality_cumulative_absolute</th>\n",
       "      <th>excess_mortality_cumulative</th>\n",
       "      <th>excess_mortality</th>\n",
       "      <th>excess_mortality_cumulative_per_million</th>\n",
       "    </tr>\n",
       "  </thead>\n",
       "  <tbody>\n",
       "    <tr>\n",
       "      <th>0</th>\n",
       "      <td>2020/10/1</td>\n",
       "      <td>0.0</td>\n",
       "      <td>0.0</td>\n",
       "      <td>-2892.0</td>\n",
       "      <td>-993.0</td>\n",
       "      <td>128.0</td>\n",
       "      <td>-8520.0</td>\n",
       "      <td>-9185.0</td>\n",
       "      <td>2919.0</td>\n",
       "      <td>50549653.0</td>\n",
       "      <td>...</td>\n",
       "      <td>9540.4</td>\n",
       "      <td>10674.3</td>\n",
       "      <td>0.0</td>\n",
       "      <td>1298.12</td>\n",
       "      <td>32171.48</td>\n",
       "      <td>369.104</td>\n",
       "      <td>0.0</td>\n",
       "      <td>0.00</td>\n",
       "      <td>0.00</td>\n",
       "      <td>0.000000</td>\n",
       "    </tr>\n",
       "    <tr>\n",
       "      <th>1</th>\n",
       "      <td>2020/10/10</td>\n",
       "      <td>0.0</td>\n",
       "      <td>0.0</td>\n",
       "      <td>-4688.0</td>\n",
       "      <td>-2035.0</td>\n",
       "      <td>1396.0</td>\n",
       "      <td>-6116.0</td>\n",
       "      <td>-20.0</td>\n",
       "      <td>633.0</td>\n",
       "      <td>57385020.0</td>\n",
       "      <td>...</td>\n",
       "      <td>8052.0</td>\n",
       "      <td>9009.0</td>\n",
       "      <td>0.0</td>\n",
       "      <td>1095.60</td>\n",
       "      <td>27152.40</td>\n",
       "      <td>311.520</td>\n",
       "      <td>0.0</td>\n",
       "      <td>0.00</td>\n",
       "      <td>0.00</td>\n",
       "      <td>0.000000</td>\n",
       "    </tr>\n",
       "    <tr>\n",
       "      <th>2</th>\n",
       "      <td>2020/10/11</td>\n",
       "      <td>0.0</td>\n",
       "      <td>0.0</td>\n",
       "      <td>-3242.0</td>\n",
       "      <td>-1356.0</td>\n",
       "      <td>2555.0</td>\n",
       "      <td>-4140.0</td>\n",
       "      <td>-79.0</td>\n",
       "      <td>293.0</td>\n",
       "      <td>47055168.0</td>\n",
       "      <td>...</td>\n",
       "      <td>6368.4</td>\n",
       "      <td>7125.3</td>\n",
       "      <td>0.0</td>\n",
       "      <td>866.52</td>\n",
       "      <td>21475.08</td>\n",
       "      <td>246.384</td>\n",
       "      <td>1760888.7</td>\n",
       "      <td>1453.77</td>\n",
       "      <td>1153.62</td>\n",
       "      <td>102537.649873</td>\n",
       "    </tr>\n",
       "    <tr>\n",
       "      <th>3</th>\n",
       "      <td>2020/10/12</td>\n",
       "      <td>0.0</td>\n",
       "      <td>0.0</td>\n",
       "      <td>-659.0</td>\n",
       "      <td>-718.0</td>\n",
       "      <td>2581.0</td>\n",
       "      <td>-8842.0</td>\n",
       "      <td>-11731.0</td>\n",
       "      <td>2721.0</td>\n",
       "      <td>73170958.0</td>\n",
       "      <td>...</td>\n",
       "      <td>9540.4</td>\n",
       "      <td>10674.3</td>\n",
       "      <td>0.0</td>\n",
       "      <td>1298.12</td>\n",
       "      <td>32171.48</td>\n",
       "      <td>369.104</td>\n",
       "      <td>0.0</td>\n",
       "      <td>0.00</td>\n",
       "      <td>0.00</td>\n",
       "      <td>0.000000</td>\n",
       "    </tr>\n",
       "    <tr>\n",
       "      <th>4</th>\n",
       "      <td>2020/10/13</td>\n",
       "      <td>0.0</td>\n",
       "      <td>0.0</td>\n",
       "      <td>53.0</td>\n",
       "      <td>466.0</td>\n",
       "      <td>2547.0</td>\n",
       "      <td>-9241.0</td>\n",
       "      <td>-11813.0</td>\n",
       "      <td>2923.0</td>\n",
       "      <td>76085081.0</td>\n",
       "      <td>...</td>\n",
       "      <td>9540.4</td>\n",
       "      <td>10674.3</td>\n",
       "      <td>0.0</td>\n",
       "      <td>1298.12</td>\n",
       "      <td>32171.48</td>\n",
       "      <td>369.104</td>\n",
       "      <td>0.0</td>\n",
       "      <td>0.00</td>\n",
       "      <td>0.00</td>\n",
       "      <td>0.000000</td>\n",
       "    </tr>\n",
       "    <tr>\n",
       "      <th>...</th>\n",
       "      <td>...</td>\n",
       "      <td>...</td>\n",
       "      <td>...</td>\n",
       "      <td>...</td>\n",
       "      <td>...</td>\n",
       "      <td>...</td>\n",
       "      <td>...</td>\n",
       "      <td>...</td>\n",
       "      <td>...</td>\n",
       "      <td>...</td>\n",
       "      <td>...</td>\n",
       "      <td>...</td>\n",
       "      <td>...</td>\n",
       "      <td>...</td>\n",
       "      <td>...</td>\n",
       "      <td>...</td>\n",
       "      <td>...</td>\n",
       "      <td>...</td>\n",
       "      <td>...</td>\n",
       "      <td>...</td>\n",
       "      <td>...</td>\n",
       "    </tr>\n",
       "    <tr>\n",
       "      <th>304</th>\n",
       "      <td>2020/9/5</td>\n",
       "      <td>0.0</td>\n",
       "      <td>0.0</td>\n",
       "      <td>-717.0</td>\n",
       "      <td>-425.0</td>\n",
       "      <td>640.0</td>\n",
       "      <td>-850.0</td>\n",
       "      <td>8.0</td>\n",
       "      <td>75.0</td>\n",
       "      <td>5306583.0</td>\n",
       "      <td>...</td>\n",
       "      <td>1683.6</td>\n",
       "      <td>1883.7</td>\n",
       "      <td>0.0</td>\n",
       "      <td>229.08</td>\n",
       "      <td>5677.32</td>\n",
       "      <td>65.136</td>\n",
       "      <td>0.0</td>\n",
       "      <td>0.00</td>\n",
       "      <td>0.00</td>\n",
       "      <td>0.000000</td>\n",
       "    </tr>\n",
       "    <tr>\n",
       "      <th>305</th>\n",
       "      <td>2020/9/6</td>\n",
       "      <td>0.0</td>\n",
       "      <td>0.0</td>\n",
       "      <td>-317.0</td>\n",
       "      <td>-226.0</td>\n",
       "      <td>572.0</td>\n",
       "      <td>-702.0</td>\n",
       "      <td>58.0</td>\n",
       "      <td>16.0</td>\n",
       "      <td>3503565.0</td>\n",
       "      <td>...</td>\n",
       "      <td>1098.0</td>\n",
       "      <td>1228.5</td>\n",
       "      <td>0.0</td>\n",
       "      <td>149.40</td>\n",
       "      <td>3702.60</td>\n",
       "      <td>42.480</td>\n",
       "      <td>282159.0</td>\n",
       "      <td>262.80</td>\n",
       "      <td>74.70</td>\n",
       "      <td>16430.294970</td>\n",
       "    </tr>\n",
       "    <tr>\n",
       "      <th>306</th>\n",
       "      <td>2020/9/7</td>\n",
       "      <td>0.0</td>\n",
       "      <td>0.0</td>\n",
       "      <td>-115.0</td>\n",
       "      <td>-179.0</td>\n",
       "      <td>383.0</td>\n",
       "      <td>-1717.0</td>\n",
       "      <td>-4820.0</td>\n",
       "      <td>1146.0</td>\n",
       "      <td>19045884.0</td>\n",
       "      <td>...</td>\n",
       "      <td>5904.8</td>\n",
       "      <td>6606.6</td>\n",
       "      <td>0.0</td>\n",
       "      <td>803.44</td>\n",
       "      <td>19911.76</td>\n",
       "      <td>228.448</td>\n",
       "      <td>0.0</td>\n",
       "      <td>0.00</td>\n",
       "      <td>0.00</td>\n",
       "      <td>0.000000</td>\n",
       "    </tr>\n",
       "    <tr>\n",
       "      <th>307</th>\n",
       "      <td>2020/9/8</td>\n",
       "      <td>0.0</td>\n",
       "      <td>0.0</td>\n",
       "      <td>-140.0</td>\n",
       "      <td>-125.0</td>\n",
       "      <td>354.0</td>\n",
       "      <td>-1794.0</td>\n",
       "      <td>-4867.0</td>\n",
       "      <td>1334.0</td>\n",
       "      <td>19628832.0</td>\n",
       "      <td>...</td>\n",
       "      <td>6002.4</td>\n",
       "      <td>6715.8</td>\n",
       "      <td>0.0</td>\n",
       "      <td>816.72</td>\n",
       "      <td>20240.88</td>\n",
       "      <td>232.224</td>\n",
       "      <td>0.0</td>\n",
       "      <td>0.00</td>\n",
       "      <td>0.00</td>\n",
       "      <td>0.000000</td>\n",
       "    </tr>\n",
       "    <tr>\n",
       "      <th>308</th>\n",
       "      <td>2020/9/9</td>\n",
       "      <td>0.0</td>\n",
       "      <td>0.0</td>\n",
       "      <td>-255.0</td>\n",
       "      <td>-291.0</td>\n",
       "      <td>435.0</td>\n",
       "      <td>-1666.0</td>\n",
       "      <td>-4074.0</td>\n",
       "      <td>1144.0</td>\n",
       "      <td>19217145.0</td>\n",
       "      <td>...</td>\n",
       "      <td>5782.8</td>\n",
       "      <td>6470.1</td>\n",
       "      <td>0.0</td>\n",
       "      <td>786.84</td>\n",
       "      <td>19500.36</td>\n",
       "      <td>223.728</td>\n",
       "      <td>0.0</td>\n",
       "      <td>0.00</td>\n",
       "      <td>0.00</td>\n",
       "      <td>0.000000</td>\n",
       "    </tr>\n",
       "  </tbody>\n",
       "</table>\n",
       "<p>309 rows × 69 columns</p>\n",
       "</div>"
      ],
      "text/plain": [
       "           date  metro_area  census_fips_code  \\\n",
       "0     2020/10/1         0.0               0.0   \n",
       "1    2020/10/10         0.0               0.0   \n",
       "2    2020/10/11         0.0               0.0   \n",
       "3    2020/10/12         0.0               0.0   \n",
       "4    2020/10/13         0.0               0.0   \n",
       "..          ...         ...               ...   \n",
       "304    2020/9/5         0.0               0.0   \n",
       "305    2020/9/6         0.0               0.0   \n",
       "306    2020/9/7         0.0               0.0   \n",
       "307    2020/9/8         0.0               0.0   \n",
       "308    2020/9/9         0.0               0.0   \n",
       "\n",
       "     retail_and_recreation_percent_change_from_baseline  \\\n",
       "0                                              -2892.0    \n",
       "1                                              -4688.0    \n",
       "2                                              -3242.0    \n",
       "3                                               -659.0    \n",
       "4                                                 53.0    \n",
       "..                                                 ...    \n",
       "304                                             -717.0    \n",
       "305                                             -317.0    \n",
       "306                                             -115.0    \n",
       "307                                             -140.0    \n",
       "308                                             -255.0    \n",
       "\n",
       "     grocery_and_pharmacy_percent_change_from_baseline  \\\n",
       "0                                               -993.0   \n",
       "1                                              -2035.0   \n",
       "2                                              -1356.0   \n",
       "3                                               -718.0   \n",
       "4                                                466.0   \n",
       "..                                                 ...   \n",
       "304                                             -425.0   \n",
       "305                                             -226.0   \n",
       "306                                             -179.0   \n",
       "307                                             -125.0   \n",
       "308                                             -291.0   \n",
       "\n",
       "     parks_percent_change_from_baseline  \\\n",
       "0                                 128.0   \n",
       "1                                1396.0   \n",
       "2                                2555.0   \n",
       "3                                2581.0   \n",
       "4                                2547.0   \n",
       "..                                  ...   \n",
       "304                               640.0   \n",
       "305                               572.0   \n",
       "306                               383.0   \n",
       "307                               354.0   \n",
       "308                               435.0   \n",
       "\n",
       "     transit_stations_percent_change_from_baseline  \\\n",
       "0                                          -8520.0   \n",
       "1                                          -6116.0   \n",
       "2                                          -4140.0   \n",
       "3                                          -8842.0   \n",
       "4                                          -9241.0   \n",
       "..                                             ...   \n",
       "304                                         -850.0   \n",
       "305                                         -702.0   \n",
       "306                                        -1717.0   \n",
       "307                                        -1794.0   \n",
       "308                                        -1666.0   \n",
       "\n",
       "     workplaces_percent_change_from_baseline  \\\n",
       "0                                    -9185.0   \n",
       "1                                      -20.0   \n",
       "2                                      -79.0   \n",
       "3                                   -11731.0   \n",
       "4                                   -11813.0   \n",
       "..                                       ...   \n",
       "304                                      8.0   \n",
       "305                                     58.0   \n",
       "306                                  -4820.0   \n",
       "307                                  -4867.0   \n",
       "308                                  -4074.0   \n",
       "\n",
       "     residential_percent_change_from_baseline  total_cases  ...  \\\n",
       "0                                      2919.0   50549653.0  ...   \n",
       "1                                       633.0   57385020.0  ...   \n",
       "2                                       293.0   47055168.0  ...   \n",
       "3                                      2721.0   73170958.0  ...   \n",
       "4                                      2923.0   76085081.0  ...   \n",
       "..                                        ...          ...  ...   \n",
       "304                                      75.0    5306583.0  ...   \n",
       "305                                      16.0    3503565.0  ...   \n",
       "306                                    1146.0   19045884.0  ...   \n",
       "307                                    1334.0   19628832.0  ...   \n",
       "308                                    1144.0   19217145.0  ...   \n",
       "\n",
       "     female_smokers  male_smokers  handwashing_facilities  \\\n",
       "0            9540.4       10674.3                     0.0   \n",
       "1            8052.0        9009.0                     0.0   \n",
       "2            6368.4        7125.3                     0.0   \n",
       "3            9540.4       10674.3                     0.0   \n",
       "4            9540.4       10674.3                     0.0   \n",
       "..              ...           ...                     ...   \n",
       "304          1683.6        1883.7                     0.0   \n",
       "305          1098.0        1228.5                     0.0   \n",
       "306          5904.8        6606.6                     0.0   \n",
       "307          6002.4        6715.8                     0.0   \n",
       "308          5782.8        6470.1                     0.0   \n",
       "\n",
       "     hospital_beds_per_thousand  life_expectancy  human_development_index  \\\n",
       "0                       1298.12         32171.48                  369.104   \n",
       "1                       1095.60         27152.40                  311.520   \n",
       "2                        866.52         21475.08                  246.384   \n",
       "3                       1298.12         32171.48                  369.104   \n",
       "4                       1298.12         32171.48                  369.104   \n",
       "..                          ...              ...                      ...   \n",
       "304                      229.08          5677.32                   65.136   \n",
       "305                      149.40          3702.60                   42.480   \n",
       "306                      803.44         19911.76                  228.448   \n",
       "307                      816.72         20240.88                  232.224   \n",
       "308                      786.84         19500.36                  223.728   \n",
       "\n",
       "     excess_mortality_cumulative_absolute  excess_mortality_cumulative  \\\n",
       "0                                     0.0                         0.00   \n",
       "1                                     0.0                         0.00   \n",
       "2                               1760888.7                      1453.77   \n",
       "3                                     0.0                         0.00   \n",
       "4                                     0.0                         0.00   \n",
       "..                                    ...                          ...   \n",
       "304                                   0.0                         0.00   \n",
       "305                              282159.0                       262.80   \n",
       "306                                   0.0                         0.00   \n",
       "307                                   0.0                         0.00   \n",
       "308                                   0.0                         0.00   \n",
       "\n",
       "     excess_mortality  excess_mortality_cumulative_per_million  \n",
       "0                0.00                                 0.000000  \n",
       "1                0.00                                 0.000000  \n",
       "2             1153.62                            102537.649873  \n",
       "3                0.00                                 0.000000  \n",
       "4                0.00                                 0.000000  \n",
       "..                ...                                      ...  \n",
       "304              0.00                                 0.000000  \n",
       "305             74.70                             16430.294970  \n",
       "306              0.00                                 0.000000  \n",
       "307              0.00                                 0.000000  \n",
       "308              0.00                                 0.000000  \n",
       "\n",
       "[309 rows x 69 columns]"
      ]
     },
     "execution_count": 2,
     "metadata": {},
     "output_type": "execute_result"
    }
   ],
   "source": [
    "# First dealing with the mobility data, combine 2020 and 2021 dataset of Netherland\n",
    "df_2020 = pd.read_csv('/Users/mengxinran/Downloads/2020_NL_Region_Mobility_Report.csv')\n",
    "df_2021 = pd.read_csv('/Users/mengxinran/Downloads/2021_NL_Region_Mobility_Report.csv')\n",
    "df = pd.concat([df_2020, df_2021])\n",
    "df = df.reset_index(drop = True)\n",
    "\n",
    "# Then dealing the covid data, choosing the cprresponding data of Netherland\n",
    "covid_data = pd.read_csv('/Users/mengxinran/Downloads/owid-covid-data.csv')\n",
    "covid_NL = covid_data[covid_data['location'] == 'Netherlands']\n",
    "covid_NL = covid_NL.reset_index(drop = True)\n",
    "\n",
    "# Combine two datasets and combine the data according to date\n",
    "result = pd.merge(df, covid_NL, on='date')\n",
    "cob_data = result.groupby(['date']).sum().reset_index()\n",
    "cob_data\n"
   ]
  },
  {
   "cell_type": "markdown",
   "metadata": {},
   "source": [
    "## Part II - Data processing"
   ]
  },
  {
   "cell_type": "markdown",
   "metadata": {},
   "source": [
    "As you already know, there are various peaks/valleys in the changes of mobility activity data. In this assignment, find peaks/valleys (if available) in the covid data.\n",
    "\n",
    "After identifying peaks from two datasets, you need to check if there are common peaks. Most likely, the peaks do not intersect on the same day, so it should be possible to provide a certain offset to combine peaks/valleys that are close to each other. A visual representation of this problem is shown in the following image:\n",
    "\n",
    "<p align=\"center\">\n",
    "  <img src=\"Images/offset.png\" alt=\"drawing\" width=\"500\"/>\n",
    "</p>\n"
   ]
  },
  {
   "cell_type": "markdown",
   "metadata": {},
   "source": [
    "Below are the challenges that need to be solved for this part:\n",
    "\n",
    "2. *[8 points]* Provide pseudo-code or logic behind the offset algorithms that you will develop for the following questions (3. and 4.) Use bullet points/flow chart/pseudocode/other means to explain the logic.\n",
    "\n",
    "\n",
    "3. *[10 points]* Find all the common peaks/valleys of mobility activity patterns of a municipality/provinces/nation within a range of time offsets. **eg: find common peaks between 1 activity of two municipalities OR find common peaks between 2 activities of the same municipality**\n",
    "\n",
    "\n",
    "4. *[2 points]* Find all the common peaks/valleys of the selected covid data of municipality/provinces/nation within a range of time offsets. **eg: find common peaks between 1 type of covid data (eg. vaccinations) of two municipalities OR find common peaks between 2 types of covid data (eg. vaccinations and deaths) of the same municipality**\n",
    "\n",
    "\n",
    "5. *[8 points]* Relationship between common peaks/valleys (municipal/provincial/nationwide) in activities and covid data (municipal/provincial/nationwide) (time-offset) (either through observation or using programmable logic). If you only use visual observational methods, you won't get maximum points for this question. **eg: compare peaks of 1 activity and 1 type of covid data of the same municipality OR compare common peaks of all activities and common peaks of all types of covid data of the same municipality**\n",
    "\n",
    "**Motivate your selection for the data choice for finding the common peaks**"
   ]
  },
  {
   "cell_type": "code",
   "execution_count": 3,
   "metadata": {},
   "outputs": [],
   "source": [
    "# For PRAT2.  "
   ]
  },
  {
   "cell_type": "code",
   "execution_count": 9,
   "metadata": {},
   "outputs": [
    {
     "name": "stdout",
     "output_type": "stream",
     "text": [
      "Commonpeaks for retail_and_recreation_percent_change_from_baseline:\n",
      "2020-04-07 00:00:00\n",
      "2020-05-02 00:00:00\n",
      "2020-06-01 00:00:00\n",
      "2020-06-21 00:00:00\n",
      "2020-07-11 00:00:00\n",
      "2020-07-26 00:00:00\n",
      "2020-08-10 00:00:00\n",
      "2020-08-30 00:00:00\n",
      "2020-09-14 00:00:00\n",
      "2020-10-09 00:00:00\n",
      "2020-10-19 00:00:00\n",
      "2020-11-08 00:00:00\n",
      "2020-11-23 00:00:00\n",
      "Commonpeaks for grocery_and_pharmacy_percent_change_from_baselin:\n",
      "2020-04-07 00:00:00\n",
      "2020-05-07 00:00:00\n",
      "2020-05-27 00:00:00\n",
      "2020-06-21 00:00:00\n",
      "2020-07-06 00:00:00\n",
      "2020-07-26 00:00:00\n",
      "2020-08-10 00:00:00\n",
      "2020-08-30 00:00:00\n",
      "2020-09-14 00:00:00\n",
      "2020-10-09 00:00:00\n",
      "2020-10-19 00:00:00\n",
      "2020-11-08 00:00:00\n",
      "2020-11-23 00:00:00\n"
     ]
    }
   ],
   "source": [
    "# Find common peaks between 2 activities of the same municipality\n",
    "# first define the function of finding peaks\n",
    "def my_find_peaks(data, activity, **kwargs):\n",
    "    dic = []\n",
    "    #select the corresponding data\n",
    "    act_data = data[activity]\n",
    "    act_data = act_data.reset_index(drop = True)\n",
    "    #calculate the number of iterations\n",
    "    iteration = act_data.shape[0] -1\n",
    "    \n",
    "    #find the peak value by compare each value with the left and right one \n",
    "    for i in range(0,iteration):\n",
    "        if act_data.iloc[i] > act_data.iloc[i-1] and act_data.iloc[i]>act_data.iloc[i+1]:\n",
    "            dic.append(i)\n",
    "        \n",
    "    return dic\n",
    "\n",
    "# derive 5-day averages to work as the offset\n",
    "cob_data.loc[:, 'date'] = pd.to_datetime(cob_data['date'])\n",
    "cob_data1 = cob_data.resample('5D', on='date').mean()\n",
    "cob_data1.reset_index(inplace=True)\n",
    "\n",
    "\n",
    "# choose two activities and find their corresponding peak values\n",
    "activity1 = 'retail_and_recreation_percent_change_from_baseline'\n",
    "activity2 = 'grocery_and_pharmacy_percent_change_from_baseline'\n",
    "max1 = my_find_peaks(cob_data1,activity1)\n",
    "max2 = my_find_peaks(cob_data1,activity2)\n",
    "\n",
    "# Using a loop to find commmon peak values\n",
    "com_peak1 = []\n",
    "com_peak2 = []\n",
    "for i in max1:\n",
    "    for j in max2:\n",
    "        if -2< i-j <2:\n",
    "            com_peak1.append(i)\n",
    "            com_peak2.append(j)\n",
    "\n",
    "# Delete the duplicate data\n",
    "final_com_peak1={}.fromkeys(com_peak1).keys()\n",
    "final_com_peak2={}.fromkeys(com_peak2).keys()\n",
    "\n",
    "# show the result\n",
    "print('Commonpeaks for retail_and_recreation_percent_change_from_baseline:')\n",
    "for i in final_com_peak1:\n",
    "    print(cob_data1.date[i])\n",
    "print('Commonpeaks for grocery_and_pharmacy_percent_change_from_baselin:')\n",
    "for j in final_com_peak2:\n",
    "    print(cob_data1.date[j])"
   ]
  },
  {
   "cell_type": "code",
   "execution_count": 10,
   "metadata": {},
   "outputs": [
    {
     "name": "stdout",
     "output_type": "stream",
     "text": [
      "Commonpeaks for icu_patients:\n",
      "2020-04-07 00:00:00\n",
      "2020-07-06 00:00:00\n",
      "2020-08-10 00:00:00\n",
      "2020-08-25 00:00:00\n",
      "2020-11-03 00:00:00\n",
      "2020-11-23 00:00:00\n",
      "Commonpeaks for hosp_patients:\n",
      "2020-04-07 00:00:00\n",
      "2020-07-11 00:00:00\n",
      "2020-08-10 00:00:00\n",
      "2020-08-25 00:00:00\n",
      "2020-11-03 00:00:00\n",
      "2020-11-23 00:00:00\n"
     ]
    }
   ],
   "source": [
    "# Find common peaks between 2 types of covid data of the same municipality\n",
    "# choose two types of data regarding covid and find their corresponding peak values\n",
    "covid1 = 'icu_patients'\n",
    "covid2 = 'hosp_patients'\n",
    "max_covid1 = my_find_peaks(cob_data1,covid1)\n",
    "max_covid2 = my_find_peaks(cob_data1,covid2)\n",
    "\n",
    "# Using a loop to find commmon peak values\n",
    "com_peak1 = []\n",
    "com_peak2 = []\n",
    "for i in max_covid1:\n",
    "    for j in max_covid2:\n",
    "        if -2< i-j <2:\n",
    "            com_peak1.append(i)\n",
    "            com_peak2.append(j)\n",
    "\n",
    "# Delete the duplicate data\n",
    "final_com_peak1={}.fromkeys(com_peak1).keys()\n",
    "final_com_peak2={}.fromkeys(com_peak2).keys()\n",
    "\n",
    "# show the result\n",
    "print('Commonpeaks for icu_patients:')\n",
    "for i in final_com_peak1:\n",
    "    print(cob_data1.date[i])\n",
    "print('Commonpeaks for hosp_patients:')\n",
    "for j in final_com_peak2:\n",
    "    print(cob_data1.date[j])\n",
    "\n"
   ]
  },
  {
   "cell_type": "code",
   "execution_count": 12,
   "metadata": {},
   "outputs": [
    {
     "name": "stdout",
     "output_type": "stream",
     "text": [
      "Commonpeaks for retail_and_recreation_percent_change_from_baseline:\n",
      "2020-04-07 00:00:00\n",
      "2020-05-07 00:00:00\n",
      "2020-08-10 00:00:00\n",
      "2020-10-19 00:00:00\n",
      "2020-11-23 00:00:00\n",
      "2020-12-18 00:00:00\n",
      "Commonpeaks for hosp_patients:\n",
      "2020-04-07 00:00:00\n",
      "2020-05-07 00:00:00\n",
      "2020-08-10 00:00:00\n",
      "2020-10-19 00:00:00\n",
      "2020-11-18 00:00:00\n",
      "2020-12-18 00:00:00\n"
     ]
    }
   ],
   "source": [
    "# Find common peaks between one mobility data and one covid data of the same municipality\n",
    "activity1 = 'retail_and_recreation_percent_change_from_baseline'\n",
    "covid1 = 'hosp_patients'\n",
    "max1 = my_find_peaks(cob_data1,activity1)\n",
    "max2 = my_find_peaks(cob_data1,covid1)\n",
    "\n",
    "# Using a loop to find commmon peak values\n",
    "com_peak1 = []\n",
    "com_peak2 = []\n",
    "for i in max1:\n",
    "    for j in max2:\n",
    "        if -2< i-j <2:\n",
    "            com_peak1.append(i)\n",
    "            com_peak2.append(j)\n",
    "\n",
    "# Delete the duplicate data\n",
    "final_com_peak1={}.fromkeys(com_peak1).keys()\n",
    "final_com_peak2={}.fromkeys(com_peak2).keys()\n",
    "\n",
    "# show the result\n",
    "print('Commonpeaks for retail_and_recreation_percent_change_from_baseline:')\n",
    "for i in final_com_peak1:\n",
    "    print(cob_data1.date[i])\n",
    "print('Commonpeaks for hosp_patients:')\n",
    "for j in final_com_peak2:\n",
    "    print(cob_data1.date[j])"
   ]
  },
  {
   "cell_type": "markdown",
   "metadata": {
    "heading_collapsed": true
   },
   "source": [
    "## Part III - Data visualisation"
   ]
  },
  {
   "cell_type": "markdown",
   "metadata": {
    "hidden": true
   },
   "source": [
    "6. *[12 points]* Use visualization to tell the mobility and covid data story of a specific municipality/province/nationwide. This is a more exploration question. Explain the logic behind your story and also your visualization choices"
   ]
  },
  {
   "cell_type": "code",
   "execution_count": 17,
   "metadata": {},
   "outputs": [
    {
     "data": {
      "application/vnd.plotly.v1+json": {
       "config": {
        "plotlyServerURL": "https://plot.ly"
       },
       "data": [
        {
         "hovertemplate": "hosp_patients=%{x}<br>retail_and_recreation_percent_change_from_baseline=%{y}<extra></extra>",
         "legendgroup": "",
         "marker": {
          "color": "#636efa",
          "symbol": "circle"
         },
         "mode": "markers",
         "name": "",
         "orientation": "v",
         "showlegend": false,
         "type": "scatter",
         "x": [
          4823.2,
          23332,
          66747.6,
          181386.8,
          466547.2,
          1064290.8,
          1067090,
          888748,
          1009701.8,
          841216.2,
          736279.8,
          613914.8,
          596141.2,
          457752,
          387808.8,
          378298.8,
          320833.8,
          257722.6,
          211773.8,
          192554.2,
          130171.8,
          98925,
          97363,
          71206.2,
          59891,
          38764.8,
          29168.6,
          30293.8,
          26900,
          32539.4,
          24826,
          26398.4,
          28658.2,
          43792,
          30660,
          20027.2,
          21658,
          18796.2,
          17512,
          39089.2,
          77105.2,
          110582.2,
          158409,
          211510.8,
          280208.6,
          355277,
          429906.6,
          581260.6,
          619170.8,
          665004.2,
          724453,
          614195.4,
          551432.6,
          510428.8,
          519951.8,
          423796.8,
          410629,
          460814.2,
          515394.8,
          554952.2,
          618709,
          792263.75
         ],
         "xaxis": "x",
         "y": [
          -319.2,
          200.2,
          -761.6,
          -3724.8,
          -9025.2,
          -8188.8,
          -8966.4,
          -9073,
          -7419.6,
          -7796.8,
          -7242.6,
          -6641.6,
          -5624.4,
          -5232.4,
          -5527.6,
          -5527.6,
          -3327,
          -3712.8,
          -3883,
          -1671.4,
          -1783.2,
          -1239.2,
          -135,
          1119.6,
          10.8,
          122.8,
          1525,
          1837.6,
          1607.6,
          2511.6,
          3746.2,
          1605.8,
          -176.2,
          1460.8,
          -328.2,
          -339,
          -254.4,
          -199.8,
          -345,
          524,
          1200.4,
          1120.2,
          -842.4,
          -1823.2,
          -2424,
          -2222,
          -5110.4,
          -3240.2,
          -4811.8,
          -5818.2,
          -5257.6,
          -4290.6,
          -5657,
          -5410.2,
          -2945.4,
          -3810.6,
          -5220.2,
          -5248.8,
          -6119.2,
          -9694.6,
          -13394.6,
          -7622.5
         ],
         "yaxis": "y"
        }
       ],
       "layout": {
        "legend": {
         "tracegroupgap": 0
        },
        "margin": {
         "t": 60
        },
        "template": {
         "data": {
          "bar": [
           {
            "error_x": {
             "color": "#2a3f5f"
            },
            "error_y": {
             "color": "#2a3f5f"
            },
            "marker": {
             "line": {
              "color": "#E5ECF6",
              "width": 0.5
             },
             "pattern": {
              "fillmode": "overlay",
              "size": 10,
              "solidity": 0.2
             }
            },
            "type": "bar"
           }
          ],
          "barpolar": [
           {
            "marker": {
             "line": {
              "color": "#E5ECF6",
              "width": 0.5
             },
             "pattern": {
              "fillmode": "overlay",
              "size": 10,
              "solidity": 0.2
             }
            },
            "type": "barpolar"
           }
          ],
          "carpet": [
           {
            "aaxis": {
             "endlinecolor": "#2a3f5f",
             "gridcolor": "white",
             "linecolor": "white",
             "minorgridcolor": "white",
             "startlinecolor": "#2a3f5f"
            },
            "baxis": {
             "endlinecolor": "#2a3f5f",
             "gridcolor": "white",
             "linecolor": "white",
             "minorgridcolor": "white",
             "startlinecolor": "#2a3f5f"
            },
            "type": "carpet"
           }
          ],
          "choropleth": [
           {
            "colorbar": {
             "outlinewidth": 0,
             "ticks": ""
            },
            "type": "choropleth"
           }
          ],
          "contour": [
           {
            "colorbar": {
             "outlinewidth": 0,
             "ticks": ""
            },
            "colorscale": [
             [
              0,
              "#0d0887"
             ],
             [
              0.1111111111111111,
              "#46039f"
             ],
             [
              0.2222222222222222,
              "#7201a8"
             ],
             [
              0.3333333333333333,
              "#9c179e"
             ],
             [
              0.4444444444444444,
              "#bd3786"
             ],
             [
              0.5555555555555556,
              "#d8576b"
             ],
             [
              0.6666666666666666,
              "#ed7953"
             ],
             [
              0.7777777777777778,
              "#fb9f3a"
             ],
             [
              0.8888888888888888,
              "#fdca26"
             ],
             [
              1,
              "#f0f921"
             ]
            ],
            "type": "contour"
           }
          ],
          "contourcarpet": [
           {
            "colorbar": {
             "outlinewidth": 0,
             "ticks": ""
            },
            "type": "contourcarpet"
           }
          ],
          "heatmap": [
           {
            "colorbar": {
             "outlinewidth": 0,
             "ticks": ""
            },
            "colorscale": [
             [
              0,
              "#0d0887"
             ],
             [
              0.1111111111111111,
              "#46039f"
             ],
             [
              0.2222222222222222,
              "#7201a8"
             ],
             [
              0.3333333333333333,
              "#9c179e"
             ],
             [
              0.4444444444444444,
              "#bd3786"
             ],
             [
              0.5555555555555556,
              "#d8576b"
             ],
             [
              0.6666666666666666,
              "#ed7953"
             ],
             [
              0.7777777777777778,
              "#fb9f3a"
             ],
             [
              0.8888888888888888,
              "#fdca26"
             ],
             [
              1,
              "#f0f921"
             ]
            ],
            "type": "heatmap"
           }
          ],
          "heatmapgl": [
           {
            "colorbar": {
             "outlinewidth": 0,
             "ticks": ""
            },
            "colorscale": [
             [
              0,
              "#0d0887"
             ],
             [
              0.1111111111111111,
              "#46039f"
             ],
             [
              0.2222222222222222,
              "#7201a8"
             ],
             [
              0.3333333333333333,
              "#9c179e"
             ],
             [
              0.4444444444444444,
              "#bd3786"
             ],
             [
              0.5555555555555556,
              "#d8576b"
             ],
             [
              0.6666666666666666,
              "#ed7953"
             ],
             [
              0.7777777777777778,
              "#fb9f3a"
             ],
             [
              0.8888888888888888,
              "#fdca26"
             ],
             [
              1,
              "#f0f921"
             ]
            ],
            "type": "heatmapgl"
           }
          ],
          "histogram": [
           {
            "marker": {
             "pattern": {
              "fillmode": "overlay",
              "size": 10,
              "solidity": 0.2
             }
            },
            "type": "histogram"
           }
          ],
          "histogram2d": [
           {
            "colorbar": {
             "outlinewidth": 0,
             "ticks": ""
            },
            "colorscale": [
             [
              0,
              "#0d0887"
             ],
             [
              0.1111111111111111,
              "#46039f"
             ],
             [
              0.2222222222222222,
              "#7201a8"
             ],
             [
              0.3333333333333333,
              "#9c179e"
             ],
             [
              0.4444444444444444,
              "#bd3786"
             ],
             [
              0.5555555555555556,
              "#d8576b"
             ],
             [
              0.6666666666666666,
              "#ed7953"
             ],
             [
              0.7777777777777778,
              "#fb9f3a"
             ],
             [
              0.8888888888888888,
              "#fdca26"
             ],
             [
              1,
              "#f0f921"
             ]
            ],
            "type": "histogram2d"
           }
          ],
          "histogram2dcontour": [
           {
            "colorbar": {
             "outlinewidth": 0,
             "ticks": ""
            },
            "colorscale": [
             [
              0,
              "#0d0887"
             ],
             [
              0.1111111111111111,
              "#46039f"
             ],
             [
              0.2222222222222222,
              "#7201a8"
             ],
             [
              0.3333333333333333,
              "#9c179e"
             ],
             [
              0.4444444444444444,
              "#bd3786"
             ],
             [
              0.5555555555555556,
              "#d8576b"
             ],
             [
              0.6666666666666666,
              "#ed7953"
             ],
             [
              0.7777777777777778,
              "#fb9f3a"
             ],
             [
              0.8888888888888888,
              "#fdca26"
             ],
             [
              1,
              "#f0f921"
             ]
            ],
            "type": "histogram2dcontour"
           }
          ],
          "mesh3d": [
           {
            "colorbar": {
             "outlinewidth": 0,
             "ticks": ""
            },
            "type": "mesh3d"
           }
          ],
          "parcoords": [
           {
            "line": {
             "colorbar": {
              "outlinewidth": 0,
              "ticks": ""
             }
            },
            "type": "parcoords"
           }
          ],
          "pie": [
           {
            "automargin": true,
            "type": "pie"
           }
          ],
          "scatter": [
           {
            "marker": {
             "colorbar": {
              "outlinewidth": 0,
              "ticks": ""
             }
            },
            "type": "scatter"
           }
          ],
          "scatter3d": [
           {
            "line": {
             "colorbar": {
              "outlinewidth": 0,
              "ticks": ""
             }
            },
            "marker": {
             "colorbar": {
              "outlinewidth": 0,
              "ticks": ""
             }
            },
            "type": "scatter3d"
           }
          ],
          "scattercarpet": [
           {
            "marker": {
             "colorbar": {
              "outlinewidth": 0,
              "ticks": ""
             }
            },
            "type": "scattercarpet"
           }
          ],
          "scattergeo": [
           {
            "marker": {
             "colorbar": {
              "outlinewidth": 0,
              "ticks": ""
             }
            },
            "type": "scattergeo"
           }
          ],
          "scattergl": [
           {
            "marker": {
             "colorbar": {
              "outlinewidth": 0,
              "ticks": ""
             }
            },
            "type": "scattergl"
           }
          ],
          "scattermapbox": [
           {
            "marker": {
             "colorbar": {
              "outlinewidth": 0,
              "ticks": ""
             }
            },
            "type": "scattermapbox"
           }
          ],
          "scatterpolar": [
           {
            "marker": {
             "colorbar": {
              "outlinewidth": 0,
              "ticks": ""
             }
            },
            "type": "scatterpolar"
           }
          ],
          "scatterpolargl": [
           {
            "marker": {
             "colorbar": {
              "outlinewidth": 0,
              "ticks": ""
             }
            },
            "type": "scatterpolargl"
           }
          ],
          "scatterternary": [
           {
            "marker": {
             "colorbar": {
              "outlinewidth": 0,
              "ticks": ""
             }
            },
            "type": "scatterternary"
           }
          ],
          "surface": [
           {
            "colorbar": {
             "outlinewidth": 0,
             "ticks": ""
            },
            "colorscale": [
             [
              0,
              "#0d0887"
             ],
             [
              0.1111111111111111,
              "#46039f"
             ],
             [
              0.2222222222222222,
              "#7201a8"
             ],
             [
              0.3333333333333333,
              "#9c179e"
             ],
             [
              0.4444444444444444,
              "#bd3786"
             ],
             [
              0.5555555555555556,
              "#d8576b"
             ],
             [
              0.6666666666666666,
              "#ed7953"
             ],
             [
              0.7777777777777778,
              "#fb9f3a"
             ],
             [
              0.8888888888888888,
              "#fdca26"
             ],
             [
              1,
              "#f0f921"
             ]
            ],
            "type": "surface"
           }
          ],
          "table": [
           {
            "cells": {
             "fill": {
              "color": "#EBF0F8"
             },
             "line": {
              "color": "white"
             }
            },
            "header": {
             "fill": {
              "color": "#C8D4E3"
             },
             "line": {
              "color": "white"
             }
            },
            "type": "table"
           }
          ]
         },
         "layout": {
          "annotationdefaults": {
           "arrowcolor": "#2a3f5f",
           "arrowhead": 0,
           "arrowwidth": 1
          },
          "autotypenumbers": "strict",
          "coloraxis": {
           "colorbar": {
            "outlinewidth": 0,
            "ticks": ""
           }
          },
          "colorscale": {
           "diverging": [
            [
             0,
             "#8e0152"
            ],
            [
             0.1,
             "#c51b7d"
            ],
            [
             0.2,
             "#de77ae"
            ],
            [
             0.3,
             "#f1b6da"
            ],
            [
             0.4,
             "#fde0ef"
            ],
            [
             0.5,
             "#f7f7f7"
            ],
            [
             0.6,
             "#e6f5d0"
            ],
            [
             0.7,
             "#b8e186"
            ],
            [
             0.8,
             "#7fbc41"
            ],
            [
             0.9,
             "#4d9221"
            ],
            [
             1,
             "#276419"
            ]
           ],
           "sequential": [
            [
             0,
             "#0d0887"
            ],
            [
             0.1111111111111111,
             "#46039f"
            ],
            [
             0.2222222222222222,
             "#7201a8"
            ],
            [
             0.3333333333333333,
             "#9c179e"
            ],
            [
             0.4444444444444444,
             "#bd3786"
            ],
            [
             0.5555555555555556,
             "#d8576b"
            ],
            [
             0.6666666666666666,
             "#ed7953"
            ],
            [
             0.7777777777777778,
             "#fb9f3a"
            ],
            [
             0.8888888888888888,
             "#fdca26"
            ],
            [
             1,
             "#f0f921"
            ]
           ],
           "sequentialminus": [
            [
             0,
             "#0d0887"
            ],
            [
             0.1111111111111111,
             "#46039f"
            ],
            [
             0.2222222222222222,
             "#7201a8"
            ],
            [
             0.3333333333333333,
             "#9c179e"
            ],
            [
             0.4444444444444444,
             "#bd3786"
            ],
            [
             0.5555555555555556,
             "#d8576b"
            ],
            [
             0.6666666666666666,
             "#ed7953"
            ],
            [
             0.7777777777777778,
             "#fb9f3a"
            ],
            [
             0.8888888888888888,
             "#fdca26"
            ],
            [
             1,
             "#f0f921"
            ]
           ]
          },
          "colorway": [
           "#636efa",
           "#EF553B",
           "#00cc96",
           "#ab63fa",
           "#FFA15A",
           "#19d3f3",
           "#FF6692",
           "#B6E880",
           "#FF97FF",
           "#FECB52"
          ],
          "font": {
           "color": "#2a3f5f"
          },
          "geo": {
           "bgcolor": "white",
           "lakecolor": "white",
           "landcolor": "#E5ECF6",
           "showlakes": true,
           "showland": true,
           "subunitcolor": "white"
          },
          "hoverlabel": {
           "align": "left"
          },
          "hovermode": "closest",
          "mapbox": {
           "style": "light"
          },
          "paper_bgcolor": "white",
          "plot_bgcolor": "#E5ECF6",
          "polar": {
           "angularaxis": {
            "gridcolor": "white",
            "linecolor": "white",
            "ticks": ""
           },
           "bgcolor": "#E5ECF6",
           "radialaxis": {
            "gridcolor": "white",
            "linecolor": "white",
            "ticks": ""
           }
          },
          "scene": {
           "xaxis": {
            "backgroundcolor": "#E5ECF6",
            "gridcolor": "white",
            "gridwidth": 2,
            "linecolor": "white",
            "showbackground": true,
            "ticks": "",
            "zerolinecolor": "white"
           },
           "yaxis": {
            "backgroundcolor": "#E5ECF6",
            "gridcolor": "white",
            "gridwidth": 2,
            "linecolor": "white",
            "showbackground": true,
            "ticks": "",
            "zerolinecolor": "white"
           },
           "zaxis": {
            "backgroundcolor": "#E5ECF6",
            "gridcolor": "white",
            "gridwidth": 2,
            "linecolor": "white",
            "showbackground": true,
            "ticks": "",
            "zerolinecolor": "white"
           }
          },
          "shapedefaults": {
           "line": {
            "color": "#2a3f5f"
           }
          },
          "ternary": {
           "aaxis": {
            "gridcolor": "white",
            "linecolor": "white",
            "ticks": ""
           },
           "baxis": {
            "gridcolor": "white",
            "linecolor": "white",
            "ticks": ""
           },
           "bgcolor": "#E5ECF6",
           "caxis": {
            "gridcolor": "white",
            "linecolor": "white",
            "ticks": ""
           }
          },
          "title": {
           "x": 0.05
          },
          "xaxis": {
           "automargin": true,
           "gridcolor": "white",
           "linecolor": "white",
           "ticks": "",
           "title": {
            "standoff": 15
           },
           "zerolinecolor": "white",
           "zerolinewidth": 2
          },
          "yaxis": {
           "automargin": true,
           "gridcolor": "white",
           "linecolor": "white",
           "ticks": "",
           "title": {
            "standoff": 15
           },
           "zerolinecolor": "white",
           "zerolinewidth": 2
          }
         }
        },
        "xaxis": {
         "anchor": "y",
         "domain": [
          0,
          1
         ],
         "title": {
          "text": "hosp_patients"
         },
         "type": "log"
        },
        "yaxis": {
         "anchor": "x",
         "domain": [
          0,
          1
         ],
         "title": {
          "text": "retail_and_recreation_percent_change_from_baseline"
         }
        }
       }
      },
      "text/html": [
       "<div>                            <div id=\"c35d8acd-22a6-4325-9d25-b86cfa576a9d\" class=\"plotly-graph-div\" style=\"height:525px; width:100%;\"></div>            <script type=\"text/javascript\">                require([\"plotly\"], function(Plotly) {                    window.PLOTLYENV=window.PLOTLYENV || {};                                    if (document.getElementById(\"c35d8acd-22a6-4325-9d25-b86cfa576a9d\")) {                    Plotly.newPlot(                        \"c35d8acd-22a6-4325-9d25-b86cfa576a9d\",                        [{\"hovertemplate\":\"hosp_patients=%{x}<br>retail_and_recreation_percent_change_from_baseline=%{y}<extra></extra>\",\"legendgroup\":\"\",\"marker\":{\"color\":\"#636efa\",\"symbol\":\"circle\"},\"mode\":\"markers\",\"name\":\"\",\"orientation\":\"v\",\"showlegend\":false,\"type\":\"scatter\",\"x\":[4823.2,23332.0,66747.6,181386.8,466547.2,1064290.8,1067090.0,888748.0,1009701.8,841216.2,736279.8,613914.8,596141.2,457752.0,387808.8,378298.8,320833.8,257722.6,211773.8,192554.2,130171.8,98925.0,97363.0,71206.2,59891.0,38764.8,29168.6,30293.8,26900.0,32539.4,24826.0,26398.4,28658.2,43792.0,30660.0,20027.2,21658.0,18796.2,17512.0,39089.2,77105.2,110582.2,158409.0,211510.8,280208.6,355277.0,429906.6,581260.6,619170.8,665004.2,724453.0,614195.4,551432.6,510428.8,519951.8,423796.8,410629.0,460814.2,515394.8,554952.2,618709.0,792263.75],\"xaxis\":\"x\",\"y\":[-319.2,200.2,-761.6,-3724.8,-9025.2,-8188.8,-8966.4,-9073.0,-7419.6,-7796.8,-7242.6,-6641.6,-5624.4,-5232.4,-5527.6,-5527.6,-3327.0,-3712.8,-3883.0,-1671.4,-1783.2,-1239.2,-135.0,1119.6,10.8,122.8,1525.0,1837.6,1607.6,2511.6,3746.2,1605.8,-176.2,1460.8,-328.2,-339.0,-254.4,-199.8,-345.0,524.0,1200.4,1120.2,-842.4,-1823.2,-2424.0,-2222.0,-5110.4,-3240.2,-4811.8,-5818.2,-5257.6,-4290.6,-5657.0,-5410.2,-2945.4,-3810.6,-5220.2,-5248.8,-6119.2,-9694.6,-13394.6,-7622.5],\"yaxis\":\"y\"}],                        {\"legend\":{\"tracegroupgap\":0},\"margin\":{\"t\":60},\"template\":{\"data\":{\"bar\":[{\"error_x\":{\"color\":\"#2a3f5f\"},\"error_y\":{\"color\":\"#2a3f5f\"},\"marker\":{\"line\":{\"color\":\"#E5ECF6\",\"width\":0.5},\"pattern\":{\"fillmode\":\"overlay\",\"size\":10,\"solidity\":0.2}},\"type\":\"bar\"}],\"barpolar\":[{\"marker\":{\"line\":{\"color\":\"#E5ECF6\",\"width\":0.5},\"pattern\":{\"fillmode\":\"overlay\",\"size\":10,\"solidity\":0.2}},\"type\":\"barpolar\"}],\"carpet\":[{\"aaxis\":{\"endlinecolor\":\"#2a3f5f\",\"gridcolor\":\"white\",\"linecolor\":\"white\",\"minorgridcolor\":\"white\",\"startlinecolor\":\"#2a3f5f\"},\"baxis\":{\"endlinecolor\":\"#2a3f5f\",\"gridcolor\":\"white\",\"linecolor\":\"white\",\"minorgridcolor\":\"white\",\"startlinecolor\":\"#2a3f5f\"},\"type\":\"carpet\"}],\"choropleth\":[{\"colorbar\":{\"outlinewidth\":0,\"ticks\":\"\"},\"type\":\"choropleth\"}],\"contour\":[{\"colorbar\":{\"outlinewidth\":0,\"ticks\":\"\"},\"colorscale\":[[0.0,\"#0d0887\"],[0.1111111111111111,\"#46039f\"],[0.2222222222222222,\"#7201a8\"],[0.3333333333333333,\"#9c179e\"],[0.4444444444444444,\"#bd3786\"],[0.5555555555555556,\"#d8576b\"],[0.6666666666666666,\"#ed7953\"],[0.7777777777777778,\"#fb9f3a\"],[0.8888888888888888,\"#fdca26\"],[1.0,\"#f0f921\"]],\"type\":\"contour\"}],\"contourcarpet\":[{\"colorbar\":{\"outlinewidth\":0,\"ticks\":\"\"},\"type\":\"contourcarpet\"}],\"heatmap\":[{\"colorbar\":{\"outlinewidth\":0,\"ticks\":\"\"},\"colorscale\":[[0.0,\"#0d0887\"],[0.1111111111111111,\"#46039f\"],[0.2222222222222222,\"#7201a8\"],[0.3333333333333333,\"#9c179e\"],[0.4444444444444444,\"#bd3786\"],[0.5555555555555556,\"#d8576b\"],[0.6666666666666666,\"#ed7953\"],[0.7777777777777778,\"#fb9f3a\"],[0.8888888888888888,\"#fdca26\"],[1.0,\"#f0f921\"]],\"type\":\"heatmap\"}],\"heatmapgl\":[{\"colorbar\":{\"outlinewidth\":0,\"ticks\":\"\"},\"colorscale\":[[0.0,\"#0d0887\"],[0.1111111111111111,\"#46039f\"],[0.2222222222222222,\"#7201a8\"],[0.3333333333333333,\"#9c179e\"],[0.4444444444444444,\"#bd3786\"],[0.5555555555555556,\"#d8576b\"],[0.6666666666666666,\"#ed7953\"],[0.7777777777777778,\"#fb9f3a\"],[0.8888888888888888,\"#fdca26\"],[1.0,\"#f0f921\"]],\"type\":\"heatmapgl\"}],\"histogram\":[{\"marker\":{\"pattern\":{\"fillmode\":\"overlay\",\"size\":10,\"solidity\":0.2}},\"type\":\"histogram\"}],\"histogram2d\":[{\"colorbar\":{\"outlinewidth\":0,\"ticks\":\"\"},\"colorscale\":[[0.0,\"#0d0887\"],[0.1111111111111111,\"#46039f\"],[0.2222222222222222,\"#7201a8\"],[0.3333333333333333,\"#9c179e\"],[0.4444444444444444,\"#bd3786\"],[0.5555555555555556,\"#d8576b\"],[0.6666666666666666,\"#ed7953\"],[0.7777777777777778,\"#fb9f3a\"],[0.8888888888888888,\"#fdca26\"],[1.0,\"#f0f921\"]],\"type\":\"histogram2d\"}],\"histogram2dcontour\":[{\"colorbar\":{\"outlinewidth\":0,\"ticks\":\"\"},\"colorscale\":[[0.0,\"#0d0887\"],[0.1111111111111111,\"#46039f\"],[0.2222222222222222,\"#7201a8\"],[0.3333333333333333,\"#9c179e\"],[0.4444444444444444,\"#bd3786\"],[0.5555555555555556,\"#d8576b\"],[0.6666666666666666,\"#ed7953\"],[0.7777777777777778,\"#fb9f3a\"],[0.8888888888888888,\"#fdca26\"],[1.0,\"#f0f921\"]],\"type\":\"histogram2dcontour\"}],\"mesh3d\":[{\"colorbar\":{\"outlinewidth\":0,\"ticks\":\"\"},\"type\":\"mesh3d\"}],\"parcoords\":[{\"line\":{\"colorbar\":{\"outlinewidth\":0,\"ticks\":\"\"}},\"type\":\"parcoords\"}],\"pie\":[{\"automargin\":true,\"type\":\"pie\"}],\"scatter\":[{\"marker\":{\"colorbar\":{\"outlinewidth\":0,\"ticks\":\"\"}},\"type\":\"scatter\"}],\"scatter3d\":[{\"line\":{\"colorbar\":{\"outlinewidth\":0,\"ticks\":\"\"}},\"marker\":{\"colorbar\":{\"outlinewidth\":0,\"ticks\":\"\"}},\"type\":\"scatter3d\"}],\"scattercarpet\":[{\"marker\":{\"colorbar\":{\"outlinewidth\":0,\"ticks\":\"\"}},\"type\":\"scattercarpet\"}],\"scattergeo\":[{\"marker\":{\"colorbar\":{\"outlinewidth\":0,\"ticks\":\"\"}},\"type\":\"scattergeo\"}],\"scattergl\":[{\"marker\":{\"colorbar\":{\"outlinewidth\":0,\"ticks\":\"\"}},\"type\":\"scattergl\"}],\"scattermapbox\":[{\"marker\":{\"colorbar\":{\"outlinewidth\":0,\"ticks\":\"\"}},\"type\":\"scattermapbox\"}],\"scatterpolar\":[{\"marker\":{\"colorbar\":{\"outlinewidth\":0,\"ticks\":\"\"}},\"type\":\"scatterpolar\"}],\"scatterpolargl\":[{\"marker\":{\"colorbar\":{\"outlinewidth\":0,\"ticks\":\"\"}},\"type\":\"scatterpolargl\"}],\"scatterternary\":[{\"marker\":{\"colorbar\":{\"outlinewidth\":0,\"ticks\":\"\"}},\"type\":\"scatterternary\"}],\"surface\":[{\"colorbar\":{\"outlinewidth\":0,\"ticks\":\"\"},\"colorscale\":[[0.0,\"#0d0887\"],[0.1111111111111111,\"#46039f\"],[0.2222222222222222,\"#7201a8\"],[0.3333333333333333,\"#9c179e\"],[0.4444444444444444,\"#bd3786\"],[0.5555555555555556,\"#d8576b\"],[0.6666666666666666,\"#ed7953\"],[0.7777777777777778,\"#fb9f3a\"],[0.8888888888888888,\"#fdca26\"],[1.0,\"#f0f921\"]],\"type\":\"surface\"}],\"table\":[{\"cells\":{\"fill\":{\"color\":\"#EBF0F8\"},\"line\":{\"color\":\"white\"}},\"header\":{\"fill\":{\"color\":\"#C8D4E3\"},\"line\":{\"color\":\"white\"}},\"type\":\"table\"}]},\"layout\":{\"annotationdefaults\":{\"arrowcolor\":\"#2a3f5f\",\"arrowhead\":0,\"arrowwidth\":1},\"autotypenumbers\":\"strict\",\"coloraxis\":{\"colorbar\":{\"outlinewidth\":0,\"ticks\":\"\"}},\"colorscale\":{\"diverging\":[[0,\"#8e0152\"],[0.1,\"#c51b7d\"],[0.2,\"#de77ae\"],[0.3,\"#f1b6da\"],[0.4,\"#fde0ef\"],[0.5,\"#f7f7f7\"],[0.6,\"#e6f5d0\"],[0.7,\"#b8e186\"],[0.8,\"#7fbc41\"],[0.9,\"#4d9221\"],[1,\"#276419\"]],\"sequential\":[[0.0,\"#0d0887\"],[0.1111111111111111,\"#46039f\"],[0.2222222222222222,\"#7201a8\"],[0.3333333333333333,\"#9c179e\"],[0.4444444444444444,\"#bd3786\"],[0.5555555555555556,\"#d8576b\"],[0.6666666666666666,\"#ed7953\"],[0.7777777777777778,\"#fb9f3a\"],[0.8888888888888888,\"#fdca26\"],[1.0,\"#f0f921\"]],\"sequentialminus\":[[0.0,\"#0d0887\"],[0.1111111111111111,\"#46039f\"],[0.2222222222222222,\"#7201a8\"],[0.3333333333333333,\"#9c179e\"],[0.4444444444444444,\"#bd3786\"],[0.5555555555555556,\"#d8576b\"],[0.6666666666666666,\"#ed7953\"],[0.7777777777777778,\"#fb9f3a\"],[0.8888888888888888,\"#fdca26\"],[1.0,\"#f0f921\"]]},\"colorway\":[\"#636efa\",\"#EF553B\",\"#00cc96\",\"#ab63fa\",\"#FFA15A\",\"#19d3f3\",\"#FF6692\",\"#B6E880\",\"#FF97FF\",\"#FECB52\"],\"font\":{\"color\":\"#2a3f5f\"},\"geo\":{\"bgcolor\":\"white\",\"lakecolor\":\"white\",\"landcolor\":\"#E5ECF6\",\"showlakes\":true,\"showland\":true,\"subunitcolor\":\"white\"},\"hoverlabel\":{\"align\":\"left\"},\"hovermode\":\"closest\",\"mapbox\":{\"style\":\"light\"},\"paper_bgcolor\":\"white\",\"plot_bgcolor\":\"#E5ECF6\",\"polar\":{\"angularaxis\":{\"gridcolor\":\"white\",\"linecolor\":\"white\",\"ticks\":\"\"},\"bgcolor\":\"#E5ECF6\",\"radialaxis\":{\"gridcolor\":\"white\",\"linecolor\":\"white\",\"ticks\":\"\"}},\"scene\":{\"xaxis\":{\"backgroundcolor\":\"#E5ECF6\",\"gridcolor\":\"white\",\"gridwidth\":2,\"linecolor\":\"white\",\"showbackground\":true,\"ticks\":\"\",\"zerolinecolor\":\"white\"},\"yaxis\":{\"backgroundcolor\":\"#E5ECF6\",\"gridcolor\":\"white\",\"gridwidth\":2,\"linecolor\":\"white\",\"showbackground\":true,\"ticks\":\"\",\"zerolinecolor\":\"white\"},\"zaxis\":{\"backgroundcolor\":\"#E5ECF6\",\"gridcolor\":\"white\",\"gridwidth\":2,\"linecolor\":\"white\",\"showbackground\":true,\"ticks\":\"\",\"zerolinecolor\":\"white\"}},\"shapedefaults\":{\"line\":{\"color\":\"#2a3f5f\"}},\"ternary\":{\"aaxis\":{\"gridcolor\":\"white\",\"linecolor\":\"white\",\"ticks\":\"\"},\"baxis\":{\"gridcolor\":\"white\",\"linecolor\":\"white\",\"ticks\":\"\"},\"bgcolor\":\"#E5ECF6\",\"caxis\":{\"gridcolor\":\"white\",\"linecolor\":\"white\",\"ticks\":\"\"}},\"title\":{\"x\":0.05},\"xaxis\":{\"automargin\":true,\"gridcolor\":\"white\",\"linecolor\":\"white\",\"ticks\":\"\",\"title\":{\"standoff\":15},\"zerolinecolor\":\"white\",\"zerolinewidth\":2},\"yaxis\":{\"automargin\":true,\"gridcolor\":\"white\",\"linecolor\":\"white\",\"ticks\":\"\",\"title\":{\"standoff\":15},\"zerolinecolor\":\"white\",\"zerolinewidth\":2}}},\"xaxis\":{\"anchor\":\"y\",\"domain\":[0.0,1.0],\"title\":{\"text\":\"hosp_patients\"},\"type\":\"log\"},\"yaxis\":{\"anchor\":\"x\",\"domain\":[0.0,1.0],\"title\":{\"text\":\"retail_and_recreation_percent_change_from_baseline\"}}},                        {\"responsive\": true}                    ).then(function(){\n",
       "                            \n",
       "var gd = document.getElementById('c35d8acd-22a6-4325-9d25-b86cfa576a9d');\n",
       "var x = new MutationObserver(function (mutations, observer) {{\n",
       "        var display = window.getComputedStyle(gd).display;\n",
       "        if (!display || display === 'none') {{\n",
       "            console.log([gd, 'removed!']);\n",
       "            Plotly.purge(gd);\n",
       "            observer.disconnect();\n",
       "        }}\n",
       "}});\n",
       "\n",
       "// Listen for the removal of the full notebook cells\n",
       "var notebookContainer = gd.closest('#notebook-container');\n",
       "if (notebookContainer) {{\n",
       "    x.observe(notebookContainer, {childList: true});\n",
       "}}\n",
       "\n",
       "// Listen for the clearing of the current output cell\n",
       "var outputEl = gd.closest('.output');\n",
       "if (outputEl) {{\n",
       "    x.observe(outputEl, {childList: true});\n",
       "}}\n",
       "\n",
       "                        })                };                });            </script>        </div>"
      ]
     },
     "metadata": {},
     "output_type": "display_data"
    },
    {
     "data": {
      "application/vnd.plotly.v1+json": {
       "config": {
        "plotlyServerURL": "https://plot.ly"
       },
       "data": [
        {
         "hovertemplate": "new_cases=%{x}<br>grocery_and_pharmacy_percent_change_from_baseline=%{y}<br>date=%{z}<extra></extra>",
         "legendgroup": "",
         "marker": {
          "color": "#636efa",
          "size": 4,
          "symbol": "circle"
         },
         "mode": "markers",
         "name": "",
         "scene": "scene",
         "showlegend": false,
         "type": "scatter3d",
         "x": [
          1165.4,
          11900,
          21611.4,
          83729.2,
          163332,
          342112.4,
          335939.2,
          345717,
          413079.4,
          329549.8,
          323214.8,
          252387.8,
          150585.4,
          98531.6,
          99356,
          80242.8,
          59512.6,
          58723.2,
          56916.4,
          54785.2,
          61094.8,
          60541.4,
          42321.8,
          29306.4,
          25115.6,
          24541.4,
          17282.2,
          28371.2,
          46452.6,
          63962.8,
          90161.8,
          141730,
          214993,
          294579.4,
          154483,
          95498.6,
          113533,
          133909.4,
          149480,
          357125.4,
          662275.8,
          774595.4,
          992787.8,
          1332214.2,
          1781953.2,
          2354748.6,
          2792415.6,
          3467622.6,
          3385104.4,
          3452486.8,
          2770683.8,
          1914040.4,
          1898444.6,
          1990798.4,
          1935606.4,
          1700257.2,
          2297868,
          3012151.2,
          3621763.4,
          4109709,
          3810523.4,
          3359960.75
         ],
         "y": [
          469.6,
          894,
          1307.6,
          3694.2,
          -392.6,
          -2691.2,
          -3963.6,
          -3296.2,
          -919.6,
          -4863.4,
          -2149.2,
          -931.2,
          -1490,
          -1146,
          199.6,
          -249.8,
          468.2,
          504.4,
          1070.8,
          55.8,
          195.8,
          376.4,
          1235,
          1535.8,
          738,
          331.8,
          998,
          477.2,
          437.4,
          802.4,
          999.2,
          5.4,
          -359.4,
          400,
          -547.8,
          -260,
          -237.6,
          -196.2,
          -239.6,
          -564.2,
          -327.4,
          -329.8,
          -465,
          -281,
          -1082.2,
          -812.4,
          -962.8,
          -426.8,
          -729,
          -1153,
          -603.8,
          -561.2,
          -871.4,
          -406.4,
          402.6,
          -331,
          -555.4,
          -639.4,
          354.6,
          1065.6,
          -5627.4,
          3435.25
         ],
         "z": [
          "2020-02-27T00:00:00",
          "2020-03-03T00:00:00",
          "2020-03-08T00:00:00",
          "2020-03-13T00:00:00",
          "2020-03-18T00:00:00",
          "2020-03-23T00:00:00",
          "2020-03-28T00:00:00",
          "2020-04-02T00:00:00",
          "2020-04-07T00:00:00",
          "2020-04-12T00:00:00",
          "2020-04-17T00:00:00",
          "2020-04-22T00:00:00",
          "2020-04-27T00:00:00",
          "2020-05-02T00:00:00",
          "2020-05-07T00:00:00",
          "2020-05-12T00:00:00",
          "2020-05-17T00:00:00",
          "2020-05-22T00:00:00",
          "2020-05-27T00:00:00",
          "2020-06-01T00:00:00",
          "2020-06-06T00:00:00",
          "2020-06-11T00:00:00",
          "2020-06-16T00:00:00",
          "2020-06-21T00:00:00",
          "2020-06-26T00:00:00",
          "2020-07-01T00:00:00",
          "2020-07-06T00:00:00",
          "2020-07-11T00:00:00",
          "2020-07-16T00:00:00",
          "2020-07-21T00:00:00",
          "2020-07-26T00:00:00",
          "2020-07-31T00:00:00",
          "2020-08-05T00:00:00",
          "2020-08-10T00:00:00",
          "2020-08-15T00:00:00",
          "2020-08-20T00:00:00",
          "2020-08-25T00:00:00",
          "2020-08-30T00:00:00",
          "2020-09-04T00:00:00",
          "2020-09-09T00:00:00",
          "2020-09-14T00:00:00",
          "2020-09-19T00:00:00",
          "2020-09-24T00:00:00",
          "2020-09-29T00:00:00",
          "2020-10-04T00:00:00",
          "2020-10-09T00:00:00",
          "2020-10-14T00:00:00",
          "2020-10-19T00:00:00",
          "2020-10-24T00:00:00",
          "2020-10-29T00:00:00",
          "2020-11-03T00:00:00",
          "2020-11-08T00:00:00",
          "2020-11-13T00:00:00",
          "2020-11-18T00:00:00",
          "2020-11-23T00:00:00",
          "2020-11-28T00:00:00",
          "2020-12-03T00:00:00",
          "2020-12-08T00:00:00",
          "2020-12-13T00:00:00",
          "2020-12-18T00:00:00",
          "2020-12-23T00:00:00",
          "2020-12-28T00:00:00"
         ]
        }
       ],
       "layout": {
        "legend": {
         "tracegroupgap": 0
        },
        "margin": {
         "t": 60
        },
        "scene": {
         "domain": {
          "x": [
           0,
           1
          ],
          "y": [
           0,
           1
          ]
         },
         "xaxis": {
          "title": {
           "text": "new_cases"
          },
          "type": "log"
         },
         "yaxis": {
          "title": {
           "text": "grocery_and_pharmacy_percent_change_from_baseline"
          }
         },
         "zaxis": {
          "title": {
           "text": "date"
          }
         }
        },
        "template": {
         "data": {
          "bar": [
           {
            "error_x": {
             "color": "#2a3f5f"
            },
            "error_y": {
             "color": "#2a3f5f"
            },
            "marker": {
             "line": {
              "color": "#E5ECF6",
              "width": 0.5
             },
             "pattern": {
              "fillmode": "overlay",
              "size": 10,
              "solidity": 0.2
             }
            },
            "type": "bar"
           }
          ],
          "barpolar": [
           {
            "marker": {
             "line": {
              "color": "#E5ECF6",
              "width": 0.5
             },
             "pattern": {
              "fillmode": "overlay",
              "size": 10,
              "solidity": 0.2
             }
            },
            "type": "barpolar"
           }
          ],
          "carpet": [
           {
            "aaxis": {
             "endlinecolor": "#2a3f5f",
             "gridcolor": "white",
             "linecolor": "white",
             "minorgridcolor": "white",
             "startlinecolor": "#2a3f5f"
            },
            "baxis": {
             "endlinecolor": "#2a3f5f",
             "gridcolor": "white",
             "linecolor": "white",
             "minorgridcolor": "white",
             "startlinecolor": "#2a3f5f"
            },
            "type": "carpet"
           }
          ],
          "choropleth": [
           {
            "colorbar": {
             "outlinewidth": 0,
             "ticks": ""
            },
            "type": "choropleth"
           }
          ],
          "contour": [
           {
            "colorbar": {
             "outlinewidth": 0,
             "ticks": ""
            },
            "colorscale": [
             [
              0,
              "#0d0887"
             ],
             [
              0.1111111111111111,
              "#46039f"
             ],
             [
              0.2222222222222222,
              "#7201a8"
             ],
             [
              0.3333333333333333,
              "#9c179e"
             ],
             [
              0.4444444444444444,
              "#bd3786"
             ],
             [
              0.5555555555555556,
              "#d8576b"
             ],
             [
              0.6666666666666666,
              "#ed7953"
             ],
             [
              0.7777777777777778,
              "#fb9f3a"
             ],
             [
              0.8888888888888888,
              "#fdca26"
             ],
             [
              1,
              "#f0f921"
             ]
            ],
            "type": "contour"
           }
          ],
          "contourcarpet": [
           {
            "colorbar": {
             "outlinewidth": 0,
             "ticks": ""
            },
            "type": "contourcarpet"
           }
          ],
          "heatmap": [
           {
            "colorbar": {
             "outlinewidth": 0,
             "ticks": ""
            },
            "colorscale": [
             [
              0,
              "#0d0887"
             ],
             [
              0.1111111111111111,
              "#46039f"
             ],
             [
              0.2222222222222222,
              "#7201a8"
             ],
             [
              0.3333333333333333,
              "#9c179e"
             ],
             [
              0.4444444444444444,
              "#bd3786"
             ],
             [
              0.5555555555555556,
              "#d8576b"
             ],
             [
              0.6666666666666666,
              "#ed7953"
             ],
             [
              0.7777777777777778,
              "#fb9f3a"
             ],
             [
              0.8888888888888888,
              "#fdca26"
             ],
             [
              1,
              "#f0f921"
             ]
            ],
            "type": "heatmap"
           }
          ],
          "heatmapgl": [
           {
            "colorbar": {
             "outlinewidth": 0,
             "ticks": ""
            },
            "colorscale": [
             [
              0,
              "#0d0887"
             ],
             [
              0.1111111111111111,
              "#46039f"
             ],
             [
              0.2222222222222222,
              "#7201a8"
             ],
             [
              0.3333333333333333,
              "#9c179e"
             ],
             [
              0.4444444444444444,
              "#bd3786"
             ],
             [
              0.5555555555555556,
              "#d8576b"
             ],
             [
              0.6666666666666666,
              "#ed7953"
             ],
             [
              0.7777777777777778,
              "#fb9f3a"
             ],
             [
              0.8888888888888888,
              "#fdca26"
             ],
             [
              1,
              "#f0f921"
             ]
            ],
            "type": "heatmapgl"
           }
          ],
          "histogram": [
           {
            "marker": {
             "pattern": {
              "fillmode": "overlay",
              "size": 10,
              "solidity": 0.2
             }
            },
            "type": "histogram"
           }
          ],
          "histogram2d": [
           {
            "colorbar": {
             "outlinewidth": 0,
             "ticks": ""
            },
            "colorscale": [
             [
              0,
              "#0d0887"
             ],
             [
              0.1111111111111111,
              "#46039f"
             ],
             [
              0.2222222222222222,
              "#7201a8"
             ],
             [
              0.3333333333333333,
              "#9c179e"
             ],
             [
              0.4444444444444444,
              "#bd3786"
             ],
             [
              0.5555555555555556,
              "#d8576b"
             ],
             [
              0.6666666666666666,
              "#ed7953"
             ],
             [
              0.7777777777777778,
              "#fb9f3a"
             ],
             [
              0.8888888888888888,
              "#fdca26"
             ],
             [
              1,
              "#f0f921"
             ]
            ],
            "type": "histogram2d"
           }
          ],
          "histogram2dcontour": [
           {
            "colorbar": {
             "outlinewidth": 0,
             "ticks": ""
            },
            "colorscale": [
             [
              0,
              "#0d0887"
             ],
             [
              0.1111111111111111,
              "#46039f"
             ],
             [
              0.2222222222222222,
              "#7201a8"
             ],
             [
              0.3333333333333333,
              "#9c179e"
             ],
             [
              0.4444444444444444,
              "#bd3786"
             ],
             [
              0.5555555555555556,
              "#d8576b"
             ],
             [
              0.6666666666666666,
              "#ed7953"
             ],
             [
              0.7777777777777778,
              "#fb9f3a"
             ],
             [
              0.8888888888888888,
              "#fdca26"
             ],
             [
              1,
              "#f0f921"
             ]
            ],
            "type": "histogram2dcontour"
           }
          ],
          "mesh3d": [
           {
            "colorbar": {
             "outlinewidth": 0,
             "ticks": ""
            },
            "type": "mesh3d"
           }
          ],
          "parcoords": [
           {
            "line": {
             "colorbar": {
              "outlinewidth": 0,
              "ticks": ""
             }
            },
            "type": "parcoords"
           }
          ],
          "pie": [
           {
            "automargin": true,
            "type": "pie"
           }
          ],
          "scatter": [
           {
            "marker": {
             "colorbar": {
              "outlinewidth": 0,
              "ticks": ""
             }
            },
            "type": "scatter"
           }
          ],
          "scatter3d": [
           {
            "line": {
             "colorbar": {
              "outlinewidth": 0,
              "ticks": ""
             }
            },
            "marker": {
             "colorbar": {
              "outlinewidth": 0,
              "ticks": ""
             }
            },
            "type": "scatter3d"
           }
          ],
          "scattercarpet": [
           {
            "marker": {
             "colorbar": {
              "outlinewidth": 0,
              "ticks": ""
             }
            },
            "type": "scattercarpet"
           }
          ],
          "scattergeo": [
           {
            "marker": {
             "colorbar": {
              "outlinewidth": 0,
              "ticks": ""
             }
            },
            "type": "scattergeo"
           }
          ],
          "scattergl": [
           {
            "marker": {
             "colorbar": {
              "outlinewidth": 0,
              "ticks": ""
             }
            },
            "type": "scattergl"
           }
          ],
          "scattermapbox": [
           {
            "marker": {
             "colorbar": {
              "outlinewidth": 0,
              "ticks": ""
             }
            },
            "type": "scattermapbox"
           }
          ],
          "scatterpolar": [
           {
            "marker": {
             "colorbar": {
              "outlinewidth": 0,
              "ticks": ""
             }
            },
            "type": "scatterpolar"
           }
          ],
          "scatterpolargl": [
           {
            "marker": {
             "colorbar": {
              "outlinewidth": 0,
              "ticks": ""
             }
            },
            "type": "scatterpolargl"
           }
          ],
          "scatterternary": [
           {
            "marker": {
             "colorbar": {
              "outlinewidth": 0,
              "ticks": ""
             }
            },
            "type": "scatterternary"
           }
          ],
          "surface": [
           {
            "colorbar": {
             "outlinewidth": 0,
             "ticks": ""
            },
            "colorscale": [
             [
              0,
              "#0d0887"
             ],
             [
              0.1111111111111111,
              "#46039f"
             ],
             [
              0.2222222222222222,
              "#7201a8"
             ],
             [
              0.3333333333333333,
              "#9c179e"
             ],
             [
              0.4444444444444444,
              "#bd3786"
             ],
             [
              0.5555555555555556,
              "#d8576b"
             ],
             [
              0.6666666666666666,
              "#ed7953"
             ],
             [
              0.7777777777777778,
              "#fb9f3a"
             ],
             [
              0.8888888888888888,
              "#fdca26"
             ],
             [
              1,
              "#f0f921"
             ]
            ],
            "type": "surface"
           }
          ],
          "table": [
           {
            "cells": {
             "fill": {
              "color": "#EBF0F8"
             },
             "line": {
              "color": "white"
             }
            },
            "header": {
             "fill": {
              "color": "#C8D4E3"
             },
             "line": {
              "color": "white"
             }
            },
            "type": "table"
           }
          ]
         },
         "layout": {
          "annotationdefaults": {
           "arrowcolor": "#2a3f5f",
           "arrowhead": 0,
           "arrowwidth": 1
          },
          "autotypenumbers": "strict",
          "coloraxis": {
           "colorbar": {
            "outlinewidth": 0,
            "ticks": ""
           }
          },
          "colorscale": {
           "diverging": [
            [
             0,
             "#8e0152"
            ],
            [
             0.1,
             "#c51b7d"
            ],
            [
             0.2,
             "#de77ae"
            ],
            [
             0.3,
             "#f1b6da"
            ],
            [
             0.4,
             "#fde0ef"
            ],
            [
             0.5,
             "#f7f7f7"
            ],
            [
             0.6,
             "#e6f5d0"
            ],
            [
             0.7,
             "#b8e186"
            ],
            [
             0.8,
             "#7fbc41"
            ],
            [
             0.9,
             "#4d9221"
            ],
            [
             1,
             "#276419"
            ]
           ],
           "sequential": [
            [
             0,
             "#0d0887"
            ],
            [
             0.1111111111111111,
             "#46039f"
            ],
            [
             0.2222222222222222,
             "#7201a8"
            ],
            [
             0.3333333333333333,
             "#9c179e"
            ],
            [
             0.4444444444444444,
             "#bd3786"
            ],
            [
             0.5555555555555556,
             "#d8576b"
            ],
            [
             0.6666666666666666,
             "#ed7953"
            ],
            [
             0.7777777777777778,
             "#fb9f3a"
            ],
            [
             0.8888888888888888,
             "#fdca26"
            ],
            [
             1,
             "#f0f921"
            ]
           ],
           "sequentialminus": [
            [
             0,
             "#0d0887"
            ],
            [
             0.1111111111111111,
             "#46039f"
            ],
            [
             0.2222222222222222,
             "#7201a8"
            ],
            [
             0.3333333333333333,
             "#9c179e"
            ],
            [
             0.4444444444444444,
             "#bd3786"
            ],
            [
             0.5555555555555556,
             "#d8576b"
            ],
            [
             0.6666666666666666,
             "#ed7953"
            ],
            [
             0.7777777777777778,
             "#fb9f3a"
            ],
            [
             0.8888888888888888,
             "#fdca26"
            ],
            [
             1,
             "#f0f921"
            ]
           ]
          },
          "colorway": [
           "#636efa",
           "#EF553B",
           "#00cc96",
           "#ab63fa",
           "#FFA15A",
           "#19d3f3",
           "#FF6692",
           "#B6E880",
           "#FF97FF",
           "#FECB52"
          ],
          "font": {
           "color": "#2a3f5f"
          },
          "geo": {
           "bgcolor": "white",
           "lakecolor": "white",
           "landcolor": "#E5ECF6",
           "showlakes": true,
           "showland": true,
           "subunitcolor": "white"
          },
          "hoverlabel": {
           "align": "left"
          },
          "hovermode": "closest",
          "mapbox": {
           "style": "light"
          },
          "paper_bgcolor": "white",
          "plot_bgcolor": "#E5ECF6",
          "polar": {
           "angularaxis": {
            "gridcolor": "white",
            "linecolor": "white",
            "ticks": ""
           },
           "bgcolor": "#E5ECF6",
           "radialaxis": {
            "gridcolor": "white",
            "linecolor": "white",
            "ticks": ""
           }
          },
          "scene": {
           "xaxis": {
            "backgroundcolor": "#E5ECF6",
            "gridcolor": "white",
            "gridwidth": 2,
            "linecolor": "white",
            "showbackground": true,
            "ticks": "",
            "zerolinecolor": "white"
           },
           "yaxis": {
            "backgroundcolor": "#E5ECF6",
            "gridcolor": "white",
            "gridwidth": 2,
            "linecolor": "white",
            "showbackground": true,
            "ticks": "",
            "zerolinecolor": "white"
           },
           "zaxis": {
            "backgroundcolor": "#E5ECF6",
            "gridcolor": "white",
            "gridwidth": 2,
            "linecolor": "white",
            "showbackground": true,
            "ticks": "",
            "zerolinecolor": "white"
           }
          },
          "shapedefaults": {
           "line": {
            "color": "#2a3f5f"
           }
          },
          "ternary": {
           "aaxis": {
            "gridcolor": "white",
            "linecolor": "white",
            "ticks": ""
           },
           "baxis": {
            "gridcolor": "white",
            "linecolor": "white",
            "ticks": ""
           },
           "bgcolor": "#E5ECF6",
           "caxis": {
            "gridcolor": "white",
            "linecolor": "white",
            "ticks": ""
           }
          },
          "title": {
           "x": 0.05
          },
          "xaxis": {
           "automargin": true,
           "gridcolor": "white",
           "linecolor": "white",
           "ticks": "",
           "title": {
            "standoff": 15
           },
           "zerolinecolor": "white",
           "zerolinewidth": 2
          },
          "yaxis": {
           "automargin": true,
           "gridcolor": "white",
           "linecolor": "white",
           "ticks": "",
           "title": {
            "standoff": 15
           },
           "zerolinecolor": "white",
           "zerolinewidth": 2
          }
         }
        }
       }
      },
      "text/html": [
       "<div>                            <div id=\"498d2d15-87c3-488e-8674-08cc56f21a2b\" class=\"plotly-graph-div\" style=\"height:525px; width:100%;\"></div>            <script type=\"text/javascript\">                require([\"plotly\"], function(Plotly) {                    window.PLOTLYENV=window.PLOTLYENV || {};                                    if (document.getElementById(\"498d2d15-87c3-488e-8674-08cc56f21a2b\")) {                    Plotly.newPlot(                        \"498d2d15-87c3-488e-8674-08cc56f21a2b\",                        [{\"hovertemplate\":\"new_cases=%{x}<br>grocery_and_pharmacy_percent_change_from_baseline=%{y}<br>date=%{z}<extra></extra>\",\"legendgroup\":\"\",\"marker\":{\"color\":\"#636efa\",\"size\":4,\"symbol\":\"circle\"},\"mode\":\"markers\",\"name\":\"\",\"scene\":\"scene\",\"showlegend\":false,\"type\":\"scatter3d\",\"x\":[1165.4,11900.0,21611.4,83729.2,163332.0,342112.4,335939.2,345717.0,413079.4,329549.8,323214.8,252387.8,150585.4,98531.6,99356.0,80242.8,59512.6,58723.2,56916.4,54785.2,61094.8,60541.4,42321.8,29306.4,25115.6,24541.4,17282.2,28371.2,46452.6,63962.8,90161.8,141730.0,214993.0,294579.4,154483.0,95498.6,113533.0,133909.4,149480.0,357125.4,662275.8,774595.4,992787.8,1332214.2,1781953.2,2354748.6,2792415.6,3467622.6,3385104.4,3452486.8,2770683.8,1914040.4,1898444.6,1990798.4,1935606.4,1700257.2,2297868.0,3012151.2,3621763.4,4109709.0,3810523.4,3359960.75],\"y\":[469.6,894.0,1307.6,3694.2,-392.6,-2691.2,-3963.6,-3296.2,-919.6,-4863.4,-2149.2,-931.2,-1490.0,-1146.0,199.6,-249.8,468.2,504.4,1070.8,55.8,195.8,376.4,1235.0,1535.8,738.0,331.8,998.0,477.2,437.4,802.4,999.2,5.4,-359.4,400.0,-547.8,-260.0,-237.6,-196.2,-239.6,-564.2,-327.4,-329.8,-465.0,-281.0,-1082.2,-812.4,-962.8,-426.8,-729.0,-1153.0,-603.8,-561.2,-871.4,-406.4,402.6,-331.0,-555.4,-639.4,354.6,1065.6,-5627.4,3435.25],\"z\":[\"2020-02-27T00:00:00\",\"2020-03-03T00:00:00\",\"2020-03-08T00:00:00\",\"2020-03-13T00:00:00\",\"2020-03-18T00:00:00\",\"2020-03-23T00:00:00\",\"2020-03-28T00:00:00\",\"2020-04-02T00:00:00\",\"2020-04-07T00:00:00\",\"2020-04-12T00:00:00\",\"2020-04-17T00:00:00\",\"2020-04-22T00:00:00\",\"2020-04-27T00:00:00\",\"2020-05-02T00:00:00\",\"2020-05-07T00:00:00\",\"2020-05-12T00:00:00\",\"2020-05-17T00:00:00\",\"2020-05-22T00:00:00\",\"2020-05-27T00:00:00\",\"2020-06-01T00:00:00\",\"2020-06-06T00:00:00\",\"2020-06-11T00:00:00\",\"2020-06-16T00:00:00\",\"2020-06-21T00:00:00\",\"2020-06-26T00:00:00\",\"2020-07-01T00:00:00\",\"2020-07-06T00:00:00\",\"2020-07-11T00:00:00\",\"2020-07-16T00:00:00\",\"2020-07-21T00:00:00\",\"2020-07-26T00:00:00\",\"2020-07-31T00:00:00\",\"2020-08-05T00:00:00\",\"2020-08-10T00:00:00\",\"2020-08-15T00:00:00\",\"2020-08-20T00:00:00\",\"2020-08-25T00:00:00\",\"2020-08-30T00:00:00\",\"2020-09-04T00:00:00\",\"2020-09-09T00:00:00\",\"2020-09-14T00:00:00\",\"2020-09-19T00:00:00\",\"2020-09-24T00:00:00\",\"2020-09-29T00:00:00\",\"2020-10-04T00:00:00\",\"2020-10-09T00:00:00\",\"2020-10-14T00:00:00\",\"2020-10-19T00:00:00\",\"2020-10-24T00:00:00\",\"2020-10-29T00:00:00\",\"2020-11-03T00:00:00\",\"2020-11-08T00:00:00\",\"2020-11-13T00:00:00\",\"2020-11-18T00:00:00\",\"2020-11-23T00:00:00\",\"2020-11-28T00:00:00\",\"2020-12-03T00:00:00\",\"2020-12-08T00:00:00\",\"2020-12-13T00:00:00\",\"2020-12-18T00:00:00\",\"2020-12-23T00:00:00\",\"2020-12-28T00:00:00\"]}],                        {\"legend\":{\"tracegroupgap\":0},\"margin\":{\"t\":60},\"scene\":{\"domain\":{\"x\":[0.0,1.0],\"y\":[0.0,1.0]},\"xaxis\":{\"title\":{\"text\":\"new_cases\"},\"type\":\"log\"},\"yaxis\":{\"title\":{\"text\":\"grocery_and_pharmacy_percent_change_from_baseline\"}},\"zaxis\":{\"title\":{\"text\":\"date\"}}},\"template\":{\"data\":{\"bar\":[{\"error_x\":{\"color\":\"#2a3f5f\"},\"error_y\":{\"color\":\"#2a3f5f\"},\"marker\":{\"line\":{\"color\":\"#E5ECF6\",\"width\":0.5},\"pattern\":{\"fillmode\":\"overlay\",\"size\":10,\"solidity\":0.2}},\"type\":\"bar\"}],\"barpolar\":[{\"marker\":{\"line\":{\"color\":\"#E5ECF6\",\"width\":0.5},\"pattern\":{\"fillmode\":\"overlay\",\"size\":10,\"solidity\":0.2}},\"type\":\"barpolar\"}],\"carpet\":[{\"aaxis\":{\"endlinecolor\":\"#2a3f5f\",\"gridcolor\":\"white\",\"linecolor\":\"white\",\"minorgridcolor\":\"white\",\"startlinecolor\":\"#2a3f5f\"},\"baxis\":{\"endlinecolor\":\"#2a3f5f\",\"gridcolor\":\"white\",\"linecolor\":\"white\",\"minorgridcolor\":\"white\",\"startlinecolor\":\"#2a3f5f\"},\"type\":\"carpet\"}],\"choropleth\":[{\"colorbar\":{\"outlinewidth\":0,\"ticks\":\"\"},\"type\":\"choropleth\"}],\"contour\":[{\"colorbar\":{\"outlinewidth\":0,\"ticks\":\"\"},\"colorscale\":[[0.0,\"#0d0887\"],[0.1111111111111111,\"#46039f\"],[0.2222222222222222,\"#7201a8\"],[0.3333333333333333,\"#9c179e\"],[0.4444444444444444,\"#bd3786\"],[0.5555555555555556,\"#d8576b\"],[0.6666666666666666,\"#ed7953\"],[0.7777777777777778,\"#fb9f3a\"],[0.8888888888888888,\"#fdca26\"],[1.0,\"#f0f921\"]],\"type\":\"contour\"}],\"contourcarpet\":[{\"colorbar\":{\"outlinewidth\":0,\"ticks\":\"\"},\"type\":\"contourcarpet\"}],\"heatmap\":[{\"colorbar\":{\"outlinewidth\":0,\"ticks\":\"\"},\"colorscale\":[[0.0,\"#0d0887\"],[0.1111111111111111,\"#46039f\"],[0.2222222222222222,\"#7201a8\"],[0.3333333333333333,\"#9c179e\"],[0.4444444444444444,\"#bd3786\"],[0.5555555555555556,\"#d8576b\"],[0.6666666666666666,\"#ed7953\"],[0.7777777777777778,\"#fb9f3a\"],[0.8888888888888888,\"#fdca26\"],[1.0,\"#f0f921\"]],\"type\":\"heatmap\"}],\"heatmapgl\":[{\"colorbar\":{\"outlinewidth\":0,\"ticks\":\"\"},\"colorscale\":[[0.0,\"#0d0887\"],[0.1111111111111111,\"#46039f\"],[0.2222222222222222,\"#7201a8\"],[0.3333333333333333,\"#9c179e\"],[0.4444444444444444,\"#bd3786\"],[0.5555555555555556,\"#d8576b\"],[0.6666666666666666,\"#ed7953\"],[0.7777777777777778,\"#fb9f3a\"],[0.8888888888888888,\"#fdca26\"],[1.0,\"#f0f921\"]],\"type\":\"heatmapgl\"}],\"histogram\":[{\"marker\":{\"pattern\":{\"fillmode\":\"overlay\",\"size\":10,\"solidity\":0.2}},\"type\":\"histogram\"}],\"histogram2d\":[{\"colorbar\":{\"outlinewidth\":0,\"ticks\":\"\"},\"colorscale\":[[0.0,\"#0d0887\"],[0.1111111111111111,\"#46039f\"],[0.2222222222222222,\"#7201a8\"],[0.3333333333333333,\"#9c179e\"],[0.4444444444444444,\"#bd3786\"],[0.5555555555555556,\"#d8576b\"],[0.6666666666666666,\"#ed7953\"],[0.7777777777777778,\"#fb9f3a\"],[0.8888888888888888,\"#fdca26\"],[1.0,\"#f0f921\"]],\"type\":\"histogram2d\"}],\"histogram2dcontour\":[{\"colorbar\":{\"outlinewidth\":0,\"ticks\":\"\"},\"colorscale\":[[0.0,\"#0d0887\"],[0.1111111111111111,\"#46039f\"],[0.2222222222222222,\"#7201a8\"],[0.3333333333333333,\"#9c179e\"],[0.4444444444444444,\"#bd3786\"],[0.5555555555555556,\"#d8576b\"],[0.6666666666666666,\"#ed7953\"],[0.7777777777777778,\"#fb9f3a\"],[0.8888888888888888,\"#fdca26\"],[1.0,\"#f0f921\"]],\"type\":\"histogram2dcontour\"}],\"mesh3d\":[{\"colorbar\":{\"outlinewidth\":0,\"ticks\":\"\"},\"type\":\"mesh3d\"}],\"parcoords\":[{\"line\":{\"colorbar\":{\"outlinewidth\":0,\"ticks\":\"\"}},\"type\":\"parcoords\"}],\"pie\":[{\"automargin\":true,\"type\":\"pie\"}],\"scatter\":[{\"marker\":{\"colorbar\":{\"outlinewidth\":0,\"ticks\":\"\"}},\"type\":\"scatter\"}],\"scatter3d\":[{\"line\":{\"colorbar\":{\"outlinewidth\":0,\"ticks\":\"\"}},\"marker\":{\"colorbar\":{\"outlinewidth\":0,\"ticks\":\"\"}},\"type\":\"scatter3d\"}],\"scattercarpet\":[{\"marker\":{\"colorbar\":{\"outlinewidth\":0,\"ticks\":\"\"}},\"type\":\"scattercarpet\"}],\"scattergeo\":[{\"marker\":{\"colorbar\":{\"outlinewidth\":0,\"ticks\":\"\"}},\"type\":\"scattergeo\"}],\"scattergl\":[{\"marker\":{\"colorbar\":{\"outlinewidth\":0,\"ticks\":\"\"}},\"type\":\"scattergl\"}],\"scattermapbox\":[{\"marker\":{\"colorbar\":{\"outlinewidth\":0,\"ticks\":\"\"}},\"type\":\"scattermapbox\"}],\"scatterpolar\":[{\"marker\":{\"colorbar\":{\"outlinewidth\":0,\"ticks\":\"\"}},\"type\":\"scatterpolar\"}],\"scatterpolargl\":[{\"marker\":{\"colorbar\":{\"outlinewidth\":0,\"ticks\":\"\"}},\"type\":\"scatterpolargl\"}],\"scatterternary\":[{\"marker\":{\"colorbar\":{\"outlinewidth\":0,\"ticks\":\"\"}},\"type\":\"scatterternary\"}],\"surface\":[{\"colorbar\":{\"outlinewidth\":0,\"ticks\":\"\"},\"colorscale\":[[0.0,\"#0d0887\"],[0.1111111111111111,\"#46039f\"],[0.2222222222222222,\"#7201a8\"],[0.3333333333333333,\"#9c179e\"],[0.4444444444444444,\"#bd3786\"],[0.5555555555555556,\"#d8576b\"],[0.6666666666666666,\"#ed7953\"],[0.7777777777777778,\"#fb9f3a\"],[0.8888888888888888,\"#fdca26\"],[1.0,\"#f0f921\"]],\"type\":\"surface\"}],\"table\":[{\"cells\":{\"fill\":{\"color\":\"#EBF0F8\"},\"line\":{\"color\":\"white\"}},\"header\":{\"fill\":{\"color\":\"#C8D4E3\"},\"line\":{\"color\":\"white\"}},\"type\":\"table\"}]},\"layout\":{\"annotationdefaults\":{\"arrowcolor\":\"#2a3f5f\",\"arrowhead\":0,\"arrowwidth\":1},\"autotypenumbers\":\"strict\",\"coloraxis\":{\"colorbar\":{\"outlinewidth\":0,\"ticks\":\"\"}},\"colorscale\":{\"diverging\":[[0,\"#8e0152\"],[0.1,\"#c51b7d\"],[0.2,\"#de77ae\"],[0.3,\"#f1b6da\"],[0.4,\"#fde0ef\"],[0.5,\"#f7f7f7\"],[0.6,\"#e6f5d0\"],[0.7,\"#b8e186\"],[0.8,\"#7fbc41\"],[0.9,\"#4d9221\"],[1,\"#276419\"]],\"sequential\":[[0.0,\"#0d0887\"],[0.1111111111111111,\"#46039f\"],[0.2222222222222222,\"#7201a8\"],[0.3333333333333333,\"#9c179e\"],[0.4444444444444444,\"#bd3786\"],[0.5555555555555556,\"#d8576b\"],[0.6666666666666666,\"#ed7953\"],[0.7777777777777778,\"#fb9f3a\"],[0.8888888888888888,\"#fdca26\"],[1.0,\"#f0f921\"]],\"sequentialminus\":[[0.0,\"#0d0887\"],[0.1111111111111111,\"#46039f\"],[0.2222222222222222,\"#7201a8\"],[0.3333333333333333,\"#9c179e\"],[0.4444444444444444,\"#bd3786\"],[0.5555555555555556,\"#d8576b\"],[0.6666666666666666,\"#ed7953\"],[0.7777777777777778,\"#fb9f3a\"],[0.8888888888888888,\"#fdca26\"],[1.0,\"#f0f921\"]]},\"colorway\":[\"#636efa\",\"#EF553B\",\"#00cc96\",\"#ab63fa\",\"#FFA15A\",\"#19d3f3\",\"#FF6692\",\"#B6E880\",\"#FF97FF\",\"#FECB52\"],\"font\":{\"color\":\"#2a3f5f\"},\"geo\":{\"bgcolor\":\"white\",\"lakecolor\":\"white\",\"landcolor\":\"#E5ECF6\",\"showlakes\":true,\"showland\":true,\"subunitcolor\":\"white\"},\"hoverlabel\":{\"align\":\"left\"},\"hovermode\":\"closest\",\"mapbox\":{\"style\":\"light\"},\"paper_bgcolor\":\"white\",\"plot_bgcolor\":\"#E5ECF6\",\"polar\":{\"angularaxis\":{\"gridcolor\":\"white\",\"linecolor\":\"white\",\"ticks\":\"\"},\"bgcolor\":\"#E5ECF6\",\"radialaxis\":{\"gridcolor\":\"white\",\"linecolor\":\"white\",\"ticks\":\"\"}},\"scene\":{\"xaxis\":{\"backgroundcolor\":\"#E5ECF6\",\"gridcolor\":\"white\",\"gridwidth\":2,\"linecolor\":\"white\",\"showbackground\":true,\"ticks\":\"\",\"zerolinecolor\":\"white\"},\"yaxis\":{\"backgroundcolor\":\"#E5ECF6\",\"gridcolor\":\"white\",\"gridwidth\":2,\"linecolor\":\"white\",\"showbackground\":true,\"ticks\":\"\",\"zerolinecolor\":\"white\"},\"zaxis\":{\"backgroundcolor\":\"#E5ECF6\",\"gridcolor\":\"white\",\"gridwidth\":2,\"linecolor\":\"white\",\"showbackground\":true,\"ticks\":\"\",\"zerolinecolor\":\"white\"}},\"shapedefaults\":{\"line\":{\"color\":\"#2a3f5f\"}},\"ternary\":{\"aaxis\":{\"gridcolor\":\"white\",\"linecolor\":\"white\",\"ticks\":\"\"},\"baxis\":{\"gridcolor\":\"white\",\"linecolor\":\"white\",\"ticks\":\"\"},\"bgcolor\":\"#E5ECF6\",\"caxis\":{\"gridcolor\":\"white\",\"linecolor\":\"white\",\"ticks\":\"\"}},\"title\":{\"x\":0.05},\"xaxis\":{\"automargin\":true,\"gridcolor\":\"white\",\"linecolor\":\"white\",\"ticks\":\"\",\"title\":{\"standoff\":15},\"zerolinecolor\":\"white\",\"zerolinewidth\":2},\"yaxis\":{\"automargin\":true,\"gridcolor\":\"white\",\"linecolor\":\"white\",\"ticks\":\"\",\"title\":{\"standoff\":15},\"zerolinecolor\":\"white\",\"zerolinewidth\":2}}}},                        {\"responsive\": true}                    ).then(function(){\n",
       "                            \n",
       "var gd = document.getElementById('498d2d15-87c3-488e-8674-08cc56f21a2b');\n",
       "var x = new MutationObserver(function (mutations, observer) {{\n",
       "        var display = window.getComputedStyle(gd).display;\n",
       "        if (!display || display === 'none') {{\n",
       "            console.log([gd, 'removed!']);\n",
       "            Plotly.purge(gd);\n",
       "            observer.disconnect();\n",
       "        }}\n",
       "}});\n",
       "\n",
       "// Listen for the removal of the full notebook cells\n",
       "var notebookContainer = gd.closest('#notebook-container');\n",
       "if (notebookContainer) {{\n",
       "    x.observe(notebookContainer, {childList: true});\n",
       "}}\n",
       "\n",
       "// Listen for the clearing of the current output cell\n",
       "var outputEl = gd.closest('.output');\n",
       "if (outputEl) {{\n",
       "    x.observe(outputEl, {childList: true});\n",
       "}}\n",
       "\n",
       "                        })                };                });            </script>        </div>"
      ]
     },
     "metadata": {},
     "output_type": "display_data"
    }
   ],
   "source": [
    "# For this part, the last part result can be used for doing the analyse \n",
    "# I choose the mobility of retail_and_recreation_percent_change_from_baseline and \n",
    "# the covid data of hospital patients , plot those two types of data in two diagrams\n",
    "# plot the 2D and 3D diagram \n",
    "fig = px.scatter(cob_data, x='hosp_patients', y='retail_and_recreation_percent_change_from_baseline', log_x=True)\n",
    "fig.show()\n",
    "\n",
    "fig = px.scatter_3d(cob_data, x='new_cases', y='grocery_and_pharmacy_percent_change_from_baseline', z='date', log_x=True)\n",
    "fig.update_traces(marker_size=4)\n",
    "fig.show()\n",
    "\n",
    "# From the diagram that it can be concluded that there is a linear relationship between two types of data.\n",
    "# With the increase of the number of hospital patients, the retail and recreation keep decreasing, which indicated \n",
    "# a relative bad influence from Covid-19 for economy development in Dutch. \n",
    "# Also, the number of infections fluctuates over time.\n"
   ]
  },
  {
   "cell_type": "markdown",
   "metadata": {
    "heading_collapsed": true
   },
   "source": [
    "# Rubrics"
   ]
  },
  {
   "cell_type": "markdown",
   "metadata": {
    "heading_collapsed": true,
    "hidden": true
   },
   "source": [
    "## Overall grading"
   ]
  },
  {
   "cell_type": "markdown",
   "metadata": {
    "hidden": true
   },
   "source": [
    "- 10% of the final grade is for code review for the final assignment. Information about partners will be released after the assignment submission deadline.\n",
    "\n",
    "- 90% of the final grade is divided among the following categories, which vary for different questions (see image below):\n",
    "    - narrative\n",
    "    - coding/logic - correctness\n",
    "    - readability - [pep8 standard](https://www.python.org/dev/peps/pep-0008/)"
   ]
  },
  {
   "cell_type": "markdown",
   "metadata": {
    "hidden": true
   },
   "source": [
    "<p align=\"center\">\n",
    "  <img src=\"Images/rubric.png\" alt=\"drawing\" width=\"500\"/>\n",
    "</p>"
   ]
  },
  {
   "cell_type": "markdown",
   "metadata": {
    "heading_collapsed": true,
    "hidden": true
   },
   "source": [
    "## Rubrics for each question in the assignment"
   ]
  },
  {
   "cell_type": "markdown",
   "metadata": {
    "hidden": true
   },
   "source": [
    "Criteria:\n",
    "1. Consistent dataset throughout the assignment, combined dataframe\n",
    "2. Correctness, generalisability, clarity, simplicity\n",
    "3. Working code, visualization of the result, generalisability\n",
    "4. Generalisability\n",
    "5. Logic, visualization\n",
    "6. Logic, story, visuals, clarity, correctness, readability\n",
    "\n",
    "You can obtain maximum points for the question if you have:\n",
    "- Excellent stories\n",
    "- Interactive visualisation \n",
    "- Programmable logic in *question 5*\n",
    "\n",
    "You can obtain bonus points if you use:\n",
    "- Extra datasets (eg: population)"
   ]
  }
 ],
 "metadata": {
  "kernelspec": {
   "display_name": "Python 3",
   "language": "python",
   "name": "python3"
  },
  "language_info": {
   "codemirror_mode": {
    "name": "ipython",
    "version": 3
   },
   "file_extension": ".py",
   "mimetype": "text/x-python",
   "name": "python",
   "nbconvert_exporter": "python",
   "pygments_lexer": "ipython3",
   "version": "3.8.8"
  }
 },
 "nbformat": 4,
 "nbformat_minor": 4
}
